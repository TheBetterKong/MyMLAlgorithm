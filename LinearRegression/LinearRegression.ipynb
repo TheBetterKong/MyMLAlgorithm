{
 "cells": [
  {
   "cell_type": "markdown",
   "metadata": {},
   "source": [
    "# 一、线性回归手动实现"
   ]
  },
  {
   "cell_type": "code",
   "execution_count": 1,
   "metadata": {},
   "outputs": [],
   "source": [
    "import numpy as np\n",
    "import matplotlib.pyplot as plt\n",
    "\n",
    "# 用来加载中文\n",
    "import matplotlib\n",
    "matplotlib.rcParams['font.sans-serif'] = ['SimHei']\n",
    "matplotlib.rcParams['font.family'] = 'sans-serif'\n",
    "matplotlib.rcParams['axes.unicode_minus'] = False # 用来正常显示负号"
   ]
  },
  {
   "cell_type": "markdown",
   "metadata": {},
   "source": [
    "## 数据加载"
   ]
  },
  {
   "cell_type": "code",
   "execution_count": 2,
   "metadata": {},
   "outputs": [],
   "source": [
    "def loadDataSet(filename):\n",
    "    '''加载文件，将feature存在X中，y存在Y中'''\n",
    "    X = []\n",
    "    Y = []\n",
    "    with open(filename, 'rb') as f:\n",
    "        for idx, line in enumerate(f):\n",
    "            line = line.decode('utf-8').strip()\n",
    "            if not line:\n",
    "                continue\n",
    "                \n",
    "            eles = line.split()\n",
    "            if idx == 0:\n",
    "                numFeature = len(eles)\n",
    "            \n",
    "            eles = list(map(float, eles)) # 将数据转换成 float 型\n",
    "            \n",
    "            X.append(eles[:-1])   # 除最后一列外都是 feature，append(list)\n",
    "            Y.append(eles[-1:])    # 最后一列是实际值,同上\n",
    "            \n",
    "        return np.array(X), np.array(Y)   # 将X,Y列表转化成矩阵"
   ]
  },
  {
   "cell_type": "code",
   "execution_count": 3,
   "metadata": {},
   "outputs": [],
   "source": [
    "X, Y = loadDataSet('./TestData/motor.txt')\n",
    "# print(X.shape)\n",
    "# print(Y.shape)\n",
    "n_sample = X.shape[0]\n",
    "n_feature = X.shape[1]\n",
    "# print(n_sample, n_feature)"
   ]
  },
  {
   "cell_type": "markdown",
   "metadata": {},
   "source": [
    "## 模型定义"
   ]
  },
  {
   "cell_type": "markdown",
   "metadata": {},
   "source": [
    "设$X$的维度为$(n\\_sample,n\\_feature)$，设$W$的维度为$(n\\_feature,n\\_output)$，偏置系数$b$为单变量系数。模型可以写成：\n",
    "$$\n",
    "\\hat{Y}=XW+b\n",
    "$$"
   ]
  },
  {
   "cell_type": "code",
   "execution_count": 4,
   "metadata": {},
   "outputs": [],
   "source": [
    "W = np.random.randn(n_feature).reshape((n_feature, 1))  # 随机设置初始权重，列向量\n",
    "b = 1  # 偏置\n",
    "\n",
    "Y_hat = np.dot(X, W)+b\n",
    "\n",
    "# print(W.shape,Y_hat.shape)"
   ]
  },
  {
   "cell_type": "markdown",
   "metadata": {},
   "source": [
    "模型的损失函数为：\n",
    "$$\n",
    "\\begin{align}\n",
    "L&=\\frac{1}{2n} \\sum\\limits_{i=1}^n(y^{(i)}-\\hat{y}^{(i)})^{2} \\\\\n",
    "&=\\frac{1}{2n}(Y-\\hat{Y})^{T}(Y-\\hat{Y}) \\\\\n",
    "\\end{align}\n",
    "$$\n",
    "损失函数关于参数$W$与$b$的梯度可以求得：\n",
    "$$\n",
    "\\begin{align}\n",
    "\\frac{\\partial{L}}{\\partial{W}}&=\\frac{1}{n}[X^{T}(\\hat{Y}-Y)] \\\\\n",
    "\\frac{\\partial{L}}{\\partial{b}}&=\\frac{1}{n}[1,1,...,1]{\\cdot}(\\hat{Y}-Y) \\\\\n",
    "\\end{align}\n",
    "$$"
   ]
  },
  {
   "cell_type": "code",
   "execution_count": 5,
   "metadata": {},
   "outputs": [],
   "source": [
    "cost = 1 / (2 * n_sample) * ((Y_hat - Y).T.dot(Y_hat - Y))\n",
    "\n",
    "dW = X.T.dot(Y_hat - Y) / n_sample\n",
    "db = np.sum(Y_hat - Y)/ n_sample"
   ]
  },
  {
   "cell_type": "markdown",
   "metadata": {},
   "source": [
    "参数的迭代更新公式：\n",
    "$$\n",
    "W:=W-{\\alpha}\\frac{\\partial{L}}{\\partial{W}}, \\quad b:b-{\\alpha}\\frac{\\partial{L}}{\\partial{b}}\n",
    "$$"
   ]
  },
  {
   "cell_type": "markdown",
   "metadata": {},
   "source": [
    "## 梯度更新"
   ]
  },
  {
   "cell_type": "markdown",
   "metadata": {},
   "source": [
    "将上面的内容整合起来如下："
   ]
  },
  {
   "cell_type": "code",
   "execution_count": 6,
   "metadata": {},
   "outputs": [],
   "source": [
    "max_iter=2000\n",
    "alpha=0.000001        # 注意学习率过大会导致震荡，然后误差越来越大\n",
    "\n",
    "def linear_reg(X,Y,alpha=0.000001,max_iter=2000):\n",
    "    epsilon = 0.00001     # 阈值\n",
    "    converged = False    # 标记是否收敛\n",
    "    costs = [0]           # 记录每一次迭代的 loss，初始化为 0\n",
    "    \n",
    "    n_sample=X.shape[0]\n",
    "    n_feature=X.shape[1]\n",
    "    \n",
    "    W = np.random.randn(n_feature).reshape((n_feature,1))  # 权重\n",
    "    b = 1  # 偏置\n",
    "\n",
    "    for i in range(max_iter):\n",
    "        if converged :\n",
    "            break\n",
    "\n",
    "        Y_hat = np.dot(X, W)+b\n",
    "\n",
    "        # 计算损失\n",
    "        cost = 1 / (2 * n_sample) * ((Y_hat - Y).T.dot(Y_hat - Y))\n",
    "        costs.append(cost)\n",
    "        if abs(costs[-1] - costs[-2]) < epsilon:\n",
    "            converged = True\n",
    "            break\n",
    "\n",
    "        # 更新梯度\n",
    "        dW = X.T.dot(Y_hat - Y) / n_sample\n",
    "        db = np.sum(Y_hat - Y)/ n_sample\n",
    "        W = W - alpha * dW\n",
    "        b = b - alpha * db\n",
    "    \n",
    "    return W,b"
   ]
  },
  {
   "cell_type": "markdown",
   "metadata": {},
   "source": [
    "## 开始训练"
   ]
  },
  {
   "cell_type": "markdown",
   "metadata": {},
   "source": [
    "为了使模型更快的收敛，这里对 X 进行标准化：\n",
    "$$\n",
    "x=\\frac{x-x_{\\mu}}{\\sigma}\n",
    "$$"
   ]
  },
  {
   "cell_type": "code",
   "execution_count": 7,
   "metadata": {},
   "outputs": [],
   "source": [
    "X_avg = X.mean(axis=0)\n",
    "X_std = X.std(axis=0)\n",
    "\n",
    "X_Stand = (X-X_avg) / X_std\n",
    "# print(X_Stand.shape)"
   ]
  },
  {
   "cell_type": "code",
   "execution_count": 8,
   "metadata": {},
   "outputs": [
    {
     "name": "stdout",
     "output_type": "stream",
     "text": [
      "[[ 1.69507083]\n",
      " [-1.05160871]\n",
      " [ 0.41368493]\n",
      " [ 1.60808516]\n",
      " [ 0.1753086 ]\n",
      " [ 1.00720868]\n",
      " [-0.67075356]\n",
      " [-1.31054567]\n",
      " [ 1.14587739]\n",
      " [ 2.17444392]\n",
      " [-0.09255882]] 0.9980854774058401\n"
     ]
    }
   ],
   "source": [
    "W,b=linear_reg(X_Stand,Y)      \n",
    "print(W,b)"
   ]
  },
  {
   "cell_type": "markdown",
   "metadata": {},
   "source": [
    "## 使用模型预测"
   ]
  },
  {
   "cell_type": "code",
   "execution_count": 9,
   "metadata": {},
   "outputs": [],
   "source": [
    "Y_pred_train = np.dot(X, W) + b\n",
    "#print(Y_pred_train)"
   ]
  },
  {
   "cell_type": "markdown",
   "metadata": {},
   "source": [
    "# 二、构造对比数据"
   ]
  },
  {
   "cell_type": "markdown",
   "metadata": {},
   "source": [
    "### ① 加载fate 预测结果:"
   ]
  },
  {
   "cell_type": "code",
   "execution_count": 10,
   "metadata": {},
   "outputs": [],
   "source": [
    "def loadCompareDataSet(filename):\n",
    "   \n",
    "    Y_com = []\n",
    "    with open(filename, 'rb') as f:\n",
    "        for idx, line in enumerate(f):\n",
    "            line = line.decode('utf-8').strip()\n",
    "            if not line:\n",
    "                continue\n",
    "                \n",
    "            eles = line.split()\n",
    "            if idx == 0:\n",
    "                numFeature = len(eles)\n",
    "            \n",
    "            eles = list(map(float, eles)) # 将数据转换成 float 型\n",
    "            \n",
    "            Y_com.append(eles[2:3])    # 应该取第三列的数据\n",
    "            \n",
    "        return np.array(Y_com)\n",
    "\n",
    "Y_com = loadCompareDataSet('./TestData/Predict_campare_motor.txt')\n",
    "# print(Y_com)"
   ]
  },
  {
   "cell_type": "markdown",
   "metadata": {},
   "source": [
    "### ② 利用 scikit 工具预测："
   ]
  },
  {
   "cell_type": "code",
   "execution_count": 11,
   "metadata": {},
   "outputs": [],
   "source": [
    "from sklearn.linear_model import LinearRegression\n",
    "\n",
    "# 开始训练\n",
    "reg = LinearRegression().fit(X_Stand,Y)\n",
    "\n",
    "# 开始预测\n",
    "Y_pred_skl = reg.predict(X)"
   ]
  },
  {
   "cell_type": "markdown",
   "metadata": {},
   "source": [
    "# 三、简单评测"
   ]
  },
  {
   "cell_type": "markdown",
   "metadata": {},
   "source": [
    "使用 RMSE 损失函数简单评价：\n",
    "$$\n",
    "\\frac{1}{2n} \\sqrt{\\sum_{i=1}^n (Y_{true} - Y_{predict})^2}\n",
    "$$"
   ]
  },
  {
   "cell_type": "code",
   "execution_count": 12,
   "metadata": {},
   "outputs": [
    {
     "name": "stdout",
     "output_type": "stream",
     "text": [
      "本例预测的 RMSE 值为： 0.1468385445122789\n",
      "fate 预测的 RMSE 值为： 0.010437055868305935\n",
      "scikit 工具预测的 RMSE 值为： 0.009954971069721368\n"
     ]
    }
   ],
   "source": [
    "def RMSE(Y_true,Y_pred):\n",
    "    return np.sum((Y_true-Y_pred)**2)**0.5/len(Y_true)\n",
    "\n",
    "print(\"本例预测的 RMSE 值为：\",RMSE(Y, Y_pred_train))\n",
    "print(\"fate 预测的 RMSE 值为：\",RMSE(Y, Y_com))\n",
    "print(\"scikit 工具预测的 RMSE 值为：\",RMSE(Y, Y_pred_skl))"
   ]
  },
  {
   "cell_type": "markdown",
   "metadata": {},
   "source": [
    "# 四、结果的图形化展示"
   ]
  },
  {
   "cell_type": "code",
   "execution_count": 13,
   "metadata": {},
   "outputs": [],
   "source": [
    "# 对 Y，Y_pred_train，Y_com 排序\n",
    "sorted_Y = Y[np.argsort(Y[:,0])]\n",
    "sorted_Y_pred_train = Y_pred_train[np.argsort(Y_pred_train[:,0])]\n",
    "sorted_Y_com = Y_com[np.argsort(Y_com[:,0])]\n",
    "sorted_Y_pred_skl = Y_pred_skl[np.argsort(Y_pred_skl[:,0])]"
   ]
  },
  {
   "cell_type": "code",
   "execution_count": 15,
   "metadata": {},
   "outputs": [
    {
     "data": {
      "text/plain": [
       "[<matplotlib.lines.Line2D at 0x1a013255310>]"
      ]
     },
     "execution_count": 15,
     "metadata": {},
     "output_type": "execute_result"
    },
    {
     "data": {
      "image/png": "[encoded data removed]",
      "text/plain": [
       "<Figure size 432x288 with 1 Axes>"
      ]
     },
     "metadata": {
      "needs_background": "light"
     },
     "output_type": "display_data"
    }
   ],
   "source": [
    "#添加X/Y轴描述\n",
    "plt.xlabel('idx')\n",
    "plt.ylabel('label')\n",
    "\n",
    "# 给定的 label 值\n",
    "plt.plot(range(len(sorted_Y)), sorted_Y, color='red')\n",
    "\n",
    "# 这里手动预测的 label 值\n",
    "plt.plot(range(len(sorted_Y_pred_train)), sorted_Y_pred_train, color='green')\n",
    "\n",
    "# fate 预测的 label 值\n",
    "plt.plot(range(len(sorted_Y_com)), sorted_Y_com, color='blue')\n",
    "\n",
    "# 利用 scikit 工具预测的 label 值\n",
    "plt.plot(range(len(sorted_Y_pred_skl)), sorted_Y_pred_skl, color='black')"
   ]
  },
  {
   "cell_type": "markdown",
   "metadata": {},
   "source": [
    "直方图分布："
   ]
  },
  {
   "cell_type": "markdown",
   "metadata": {},
   "source": [
    "① 给定的 Y 分布："
   ]
  },
  {
   "cell_type": "code",
   "execution_count": 40,
   "metadata": {},
   "outputs": [
    {
     "data": {
      "image/png": "[encoded data removed]",
      "text/plain": [
       "<Figure size 432x288 with 1 Axes>"
      ]
     },
     "metadata": {
      "needs_background": "light"
     },
     "output_type": "display_data"
    }
   ],
   "source": [
    "n, bins, patches = plt.hist(Y, 50, density=True, facecolor='g', alpha=0.75)\n",
    "\n",
    "plt.xlabel('Motor_speed')\n",
    "plt.ylabel('Probability')\n",
    "plt.title('Histogram of Motor_speed')\n",
    "plt.grid(True)\n",
    "plt.show()"
   ]
  },
  {
   "cell_type": "markdown",
   "metadata": {},
   "source": [
    "② 手动预测的 Y 分布："
   ]
  },
  {
   "cell_type": "code",
   "execution_count": 43,
   "metadata": {},
   "outputs": [
    {
     "data": {
      "image/png": "[encoded data removed]",
      "text/plain": [
       "<Figure size 432x288 with 1 Axes>"
      ]
     },
     "metadata": {
      "needs_background": "light"
     },
     "output_type": "display_data"
    }
   ],
   "source": [
    "n, bins, patches = plt.hist(Y_pred_train, 50, density=True, facecolor='g', alpha=0.75)\n",
    "# n, bins, patches = plt.hist(Y_com, 50, density=True, facecolor='b', alpha=0.75)\n",
    "# n, bins, patches = plt.hist(Y_pred_skl, 50, density=True, facecolor='y', alpha=0.75)\n",
    "\n",
    "plt.xlabel('Motor_speed')\n",
    "plt.ylabel('Probability')\n",
    "plt.title('Histogram of Motor_speed')\n",
    "plt.grid(True)\n",
    "plt.show()"
   ]
  },
  {
   "cell_type": "markdown",
   "metadata": {},
   "source": [
    "③ fate 预测的 Y 分布："
   ]
  },
  {
   "cell_type": "code",
   "execution_count": 22,
   "metadata": {},
   "outputs": [
    {
     "data": {
      "image/png": "[encoded data removed]",
      "text/plain": [
       "<Figure size 432x288 with 1 Axes>"
      ]
     },
     "metadata": {
      "needs_background": "light"
     },
     "output_type": "display_data"
    }
   ],
   "source": [
    "n, bins, patches = plt.hist(Y_com, 50, density=True, facecolor='g', alpha=0.75)\n",
    "\n",
    "plt.xlabel('Motor_speed')\n",
    "plt.ylabel('Probability')\n",
    "plt.title('Histogram of Motor_speed')\n",
    "plt.grid(True)\n",
    "plt.show()"
   ]
  },
  {
   "cell_type": "markdown",
   "metadata": {},
   "source": [
    "④ 利用 scikit 预测的 Y 分布："
   ]
  },
  {
   "cell_type": "code",
   "execution_count": 26,
   "metadata": {},
   "outputs": [
    {
     "data": {
      "image/png": "[encoded data removed]",
      "text/plain": [
       "<Figure size 432x288 with 1 Axes>"
      ]
     },
     "metadata": {
      "needs_background": "light"
     },
     "output_type": "display_data"
    }
   ],
   "source": [
    "n, bins, patches = plt.hist(Y_pred_skl, 50, density=True, facecolor='g', alpha=0.75)\n",
    "\n",
    "plt.xlabel('Motor_speed')\n",
    "plt.ylabel('Probability')\n",
    "plt.title('Histogram of Motor_speed')\n",
    "plt.grid(True)\n",
    "plt.show()"
   ]
  },
  {
   "cell_type": "markdown",
   "metadata": {},
   "source": [
    "# 五、结果分析"
   ]
  },
  {
   "cell_type": "markdown",
   "metadata": {},
   "source": [
    "本例中手动实现的线性回归，会受到初始 W 值的影响，导致最终训练效果的不同。由结果分析，单纯的一元一次线性回归可能不满足要求，我们需要扩展到多项式回归问题，来实现更好的拟合。"
   ]
  }
 ],
 "metadata": {
  "kernelspec": {
   "display_name": "Python 3",
   "language": "python",
   "name": "python3"
  },
  "language_info": {
   "codemirror_mode": {
    "name": "ipython",
    "version": 3
   },
   "file_extension": ".py",
   "mimetype": "text/x-python",
   "name": "python",
   "nbconvert_exporter": "python",
   "pygments_lexer": "ipython3",
   "version": "3.8.3"
  }
 },
 "nbformat": 4,
 "nbformat_minor": 4
}
