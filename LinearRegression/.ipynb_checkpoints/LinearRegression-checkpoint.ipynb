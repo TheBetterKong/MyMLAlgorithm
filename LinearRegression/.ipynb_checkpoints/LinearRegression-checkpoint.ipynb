{
 "cells": [
  {
   "cell_type": "code",
   "execution_count": 1,
   "metadata": {},
   "outputs": [],
   "source": [
    "import numpy as np\n",
    "import matplotlib.pyplot as plt\n",
    "\n",
    "# 用来加载中文\n",
    "import matplotlib\n",
    "matplotlib.rcParams['font.sans-serif'] = ['SimHei']\n",
    "matplotlib.rcParams['font.family'] = 'sans-serif'\n",
    "matplotlib.rcParams['axes.unicode_minus'] = False # 用来正常显示负号"
   ]
  },
  {
   "cell_type": "markdown",
   "metadata": {},
   "source": [
    "# 数据加载"
   ]
  },
  {
   "cell_type": "code",
   "execution_count": 23,
   "metadata": {},
   "outputs": [],
   "source": [
    "def loadDataSet(filename):\n",
    "    '''加载文件，将feature存在X中，y存在Y中'''\n",
    "    X = []\n",
    "    Y = []\n",
    "    with open(filename, 'rb') as f:\n",
    "        for idx, line in enumerate(f):\n",
    "            line = line.decode('utf-8').strip()\n",
    "            if not line:\n",
    "                continue\n",
    "                \n",
    "            eles = line.split()\n",
    "            if idx == 0:\n",
    "                numFeature = len(eles)\n",
    "            \n",
    "            eles = list(map(float, eles)) # 将数据转换成 float 型\n",
    "            \n",
    "            X.append(eles[:-1])   # 除最后一列外都是 feature，append(list)\n",
    "            Y.append(eles[-1:])    # 最后一列是实际值,同上\n",
    "            \n",
    "        return np.array(X), np.array(Y)   # 将X,Y列表转化成矩阵"
   ]
  },
  {
   "cell_type": "code",
   "execution_count": 62,
   "metadata": {},
   "outputs": [],
   "source": [
    "X, Y = loadDataSet('./TestData/motor.txt')\n",
    "# print(X.shape)\n",
    "# print(Y.shape)\n",
    "# n_sample = X.shape[0]\n",
    "# n_feature = X.shape[1]\n",
    "# print(n_sample, n_feature)"
   ]
  },
  {
   "cell_type": "markdown",
   "metadata": {},
   "source": [
    "# 模型定义"
   ]
  },
  {
   "cell_type": "markdown",
   "metadata": {},
   "source": [
    "设$X$的维度为$(n\\_sample,n\\_feature)$，设$W$的维度为$(n\\_feature,n\\_output)$，偏置系数$b$为单变量系数。模型可以写成：\n",
    "$$\n",
    "\\hat{Y}=XW+b\n",
    "$$"
   ]
  },
  {
   "cell_type": "code",
   "execution_count": 123,
   "metadata": {},
   "outputs": [],
   "source": [
    "W = np.random.randn(n_feature).reshape((n_feature, 1))  # 随机设置初始权重，列向量\n",
    "b = 1  # 偏置\n",
    "\n",
    "Y_hat = np.dot(X, W)+b\n",
    "\n",
    "# print(W.shape,Y_hat.shape)"
   ]
  },
  {
   "cell_type": "markdown",
   "metadata": {},
   "source": [
    "模型的损失函数为：\n",
    "$$\n",
    "\\begin{align}\n",
    "L&=\\frac{1}{2n} \\sum\\limits_{i=1}^n(y^{(i)}-\\hat{y}^{(i)})^{2} \\\\\n",
    "&=\\frac{1}{2n}(Y-\\hat{Y})^{T}(Y-\\hat{Y}) \\\\\n",
    "\\end{align}\n",
    "$$\n",
    "损失函数关于参数$W$与$b$的梯度可以求得：\n",
    "$$\n",
    "\\begin{align}\n",
    "\\frac{\\partial{L}}{\\partial{W}}&=\\frac{1}{n}[X^{T}(\\hat{Y}-Y)] \\\\\n",
    "\\frac{\\partial{L}}{\\partial{b}}&=\\frac{1}{n}[1,1,...,1]{\\cdot}(\\hat{Y}-Y) \\\\\n",
    "\\end{align}\n",
    "$$"
   ]
  },
  {
   "cell_type": "code",
   "execution_count": 33,
   "metadata": {},
   "outputs": [],
   "source": [
    "cost = 1 / (2 * n_sample) * ((Y_hat - Y).T.dot(Y_hat - Y))\n",
    "\n",
    "dW = X.T.dot(Y_hat - Y) / n_sample\n",
    "db = np.sum(Y_hat - Y)/ n_sample"
   ]
  },
  {
   "cell_type": "markdown",
   "metadata": {},
   "source": [
    "参数的迭代更新公式：\n",
    "$$\n",
    "W:=W-{\\alpha}\\frac{\\partial{L}}{\\partial{W}}, \\quad b:b-{\\alpha}\\frac{\\partial{L}}{\\partial{b}}\n",
    "$$"
   ]
  },
  {
   "cell_type": "markdown",
   "metadata": {},
   "source": [
    "# 梯度更新"
   ]
  },
  {
   "cell_type": "markdown",
   "metadata": {},
   "source": [
    "将上面的内容整合起来如下："
   ]
  },
  {
   "cell_type": "code",
   "execution_count": 77,
   "metadata": {},
   "outputs": [],
   "source": [
    "max_iter=2000\n",
    "alpha=0.000001        # 注意学习率过大会导致震荡，然后误差越来越大\n",
    "\n",
    "def linear_reg(X,Y,alpha=0.000001,max_iter=2000):\n",
    "    epsilon = 0.00001     # 阈值\n",
    "    converged = False    # 标记是否收敛\n",
    "    costs = [0]           # 记录每一次迭代的 loss，初始化为 0\n",
    "    \n",
    "    n_sample=X.shape[0]\n",
    "    n_feature=X.shape[1]\n",
    "    \n",
    "    W = np.random.randn(n_feature).reshape((n_feature,1))  # 权重\n",
    "    b = 1  # 偏置\n",
    "\n",
    "    for i in range(max_iter):\n",
    "        if converged :\n",
    "            break\n",
    "\n",
    "        Y_hat = np.dot(X, W)+b\n",
    "\n",
    "        # 计算损失\n",
    "        cost = 1 / (2 * n_sample) * ((Y_hat - Y).T.dot(Y_hat - Y))\n",
    "        costs.append(cost)\n",
    "        if abs(costs[-1] - costs[-2]) < epsilon:\n",
    "            converged = True\n",
    "            break\n",
    "\n",
    "        # 更新梯度\n",
    "        dW = X.T.dot(Y_hat - Y) / n_sample\n",
    "        db = np.sum(Y_hat - Y)/ n_sample\n",
    "        W = W - alpha * dW\n",
    "        b = b - alpha * db\n",
    "    \n",
    "    return W,b"
   ]
  },
  {
   "cell_type": "markdown",
   "metadata": {},
   "source": [
    "# 开始训练"
   ]
  },
  {
   "cell_type": "markdown",
   "metadata": {},
   "source": [
    "为了使模型更快的收敛，这里对 X 进行标准化：\n",
    "$$\n",
    "x=\\frac{x-x_{\\mu}}{\\sigma}\n",
    "$$"
   ]
  },
  {
   "cell_type": "code",
   "execution_count": 141,
   "metadata": {},
   "outputs": [],
   "source": [
    "X_avg = X.mean(axis=0)\n",
    "X_std = X.std(axis=0)\n",
    "\n",
    "X_Stand = (X-X_avg) / X_std\n",
    "# print(X_Stand.shape)"
   ]
  },
  {
   "cell_type": "code",
   "execution_count": 142,
   "metadata": {},
   "outputs": [
    {
     "name": "stdout",
     "output_type": "stream",
     "text": [
      "[[ 0.43560934]\n",
      " [-1.74330611]\n",
      " [ 0.7808    ]\n",
      " [ 1.07892719]\n",
      " [ 0.68033428]\n",
      " [-0.26717161]\n",
      " [ 0.12101365]\n",
      " [ 0.02740102]\n",
      " [ 0.58005704]\n",
      " [-0.73246676]\n",
      " [ 0.71306988]] 0.9999990417816012\n"
     ]
    }
   ],
   "source": [
    "W,b=linear_reg(X_Stand,Y)      \n",
    "print(W,b)"
   ]
  },
  {
   "cell_type": "markdown",
   "metadata": {},
   "source": [
    "# 使用模型预测"
   ]
  },
  {
   "cell_type": "code",
   "execution_count": 144,
   "metadata": {},
   "outputs": [],
   "source": [
    "Y_pred_train = np.dot(X, W) + b\n",
    "#print(Y_pred_train)"
   ]
  },
  {
   "cell_type": "markdown",
   "metadata": {},
   "source": [
    "加载用来对比的预测数据集:"
   ]
  },
  {
   "cell_type": "code",
   "execution_count": 161,
   "metadata": {},
   "outputs": [],
   "source": [
    "def loadCompareDataSet(filename):\n",
    "   \n",
    "    Y_com = []\n",
    "    with open(filename, 'rb') as f:\n",
    "        for idx, line in enumerate(f):\n",
    "            line = line.decode('utf-8').strip()\n",
    "            if not line:\n",
    "                continue\n",
    "                \n",
    "            eles = line.split()\n",
    "            if idx == 0:\n",
    "                numFeature = len(eles)\n",
    "            \n",
    "            eles = list(map(float, eles)) # 将数据转换成 float 型\n",
    "            \n",
    "            Y_com.append(eles[2:3])    # 应该取第三列的数据\n",
    "            \n",
    "        return np.array(Y_com)\n",
    "\n",
    "Y_com = loadCompareDataSet('./TestData/Predict_campare_motor.txt')\n",
    "# print(Y_com)"
   ]
  },
  {
   "cell_type": "markdown",
   "metadata": {},
   "source": [
    "# 简单评测"
   ]
  },
  {
   "cell_type": "markdown",
   "metadata": {},
   "source": [
    "使用 RMSE 损失函数简单评价：\n",
    "$$\n",
    "\\frac{1}{2n} \\sqrt{\\sum_{i=1}^n (Y_{true} - Y_{predict})^2}\n",
    "$$"
   ]
  },
  {
   "cell_type": "code",
   "execution_count": 145,
   "metadata": {},
   "outputs": [
    {
     "name": "stdout",
     "output_type": "stream",
     "text": [
      "本例预测的 RMSE 值为： 0.07690337441692069\n",
      "fate 预测的 RMSE 值为： 0.010437055868305935\n"
     ]
    }
   ],
   "source": [
    "def RMSE(Y_true,Y_pred):\n",
    "    return np.sum((Y_true-Y_pred)**2)**0.5/len(Y_true)\n",
    "\n",
    "print(\"本例预测的 RMSE 值为：\",RMSE(Y, Y_pred_train))\n",
    "print(\"fate 预测的 RMSE 值为：\",RMSE(Y, Y_com))"
   ]
  },
  {
   "cell_type": "markdown",
   "metadata": {},
   "source": [
    "# 结果的图形化展示"
   ]
  },
  {
   "cell_type": "code",
   "execution_count": 129,
   "metadata": {},
   "outputs": [],
   "source": [
    "# 对 Y，Y_pred_train，Y_com 排序\n",
    "sorted_Y = Y[np.argsort(Y[:,0])]\n",
    "sorted_Y_pred_train = Y_pred_train[np.argsort(Y_pred_train[:,0])]\n",
    "sorted_Y_com = Y_com[np.argsort(Y_com[:,0])]\n",
    "#print(sortedY)"
   ]
  },
  {
   "cell_type": "code",
   "execution_count": 160,
   "metadata": {},
   "outputs": [
    {
     "data": {
      "text/plain": [
       "[<matplotlib.lines.Line2D at 0x1a93fd29eb0>]"
      ]
     },
     "execution_count": 160,
     "metadata": {},
     "output_type": "execute_result"
    },
    {
     "data": {
      "image/png": "[encoded data removed]",
      "text/plain": [
       "<Figure size 432x288 with 1 Axes>"
      ]
     },
     "metadata": {
      "needs_background": "light"
     },
     "output_type": "display_data"
    }
   ],
   "source": [
    "#添加X/Y轴描述\n",
    "plt.xlabel('idx')\n",
    "plt.ylabel('label')\n",
    "\n",
    "# 给定的 label 值\n",
    "plt.plot(range(len(sorted_Y)), sorted_Y, color='red')\n",
    "\n",
    "# 这里手动预测的 label 值\n",
    "plt.plot(range(len(sorted_Y_pred_train)), sorted_Y_pred_train, color='green')\n",
    "\n",
    "# fate 预测的 label 值\n",
    "plt.plot(range(len(sorted_Y_com)), sorted_Y_com, color='blue')"
   ]
  },
  {
   "cell_type": "markdown",
   "metadata": {},
   "source": [
    "# 结果分析"
   ]
  },
  {
   "cell_type": "markdown",
   "metadata": {},
   "source": [
    "本例中手动实现的线性回归，会受到初始 W 值的影响，导致最终训练效果的不同。由结果分析，单纯的一元一次线性回归可能不满足要求，我们需要扩展到多项式回归问题，来实现更好的拟合。"
   ]
  }
 ],
 "metadata": {
  "kernelspec": {
   "display_name": "Python 3",
   "language": "python",
   "name": "python3"
  },
  "language_info": {
   "codemirror_mode": {
    "name": "ipython",
    "version": 3
   },
   "file_extension": ".py",
   "mimetype": "text/x-python",
   "name": "python",
   "nbconvert_exporter": "python",
   "pygments_lexer": "ipython3",
   "version": "3.8.3"
  }
 },
 "nbformat": 4,
 "nbformat_minor": 4
}
