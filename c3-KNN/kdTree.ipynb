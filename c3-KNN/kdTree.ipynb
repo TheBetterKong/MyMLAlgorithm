{
 "metadata": {
  "language_info": {
   "codemirror_mode": {
    "name": "ipython",
    "version": 3
   },
   "file_extension": ".py",
   "mimetype": "text/x-python",
   "name": "python",
   "nbconvert_exporter": "python",
   "pygments_lexer": "ipython3",
   "version": "3.8.3-final"
  },
  "orig_nbformat": 2,
  "kernelspec": {
   "name": "python3",
   "display_name": "Python 3.8.3 64-bit (conda)",
   "metadata": {
    "interpreter": {
     "hash": "b3ba2566441a7c06988d0923437866b63cedc61552a5af99d1f4fb67d367b25f"
    }
   }
  }
 },
 "nbformat": 4,
 "nbformat_minor": 2,
 "cells": [
  {
   "source": [
    "在实现 k 近邻算法时，最主要的问题是如何对训练数据进行快速 k 近邻搜索，这一步最简单的实现方法就是：线性扫描，此时要计算输入样本与每个训练样本的距离。而当训练集很大时，这个过程无疑是非常耗时的，于是就有了 kd 树的概念；     \n",
    "- kd 树只适用于样本数远大于特征维数的情形，如果当样本数和特征维度差不多的时候，kd 树搜索效率几乎和线性扫描差不多。\n",
    "\n",
    "kd 树是一种对 k 维空间中的样本点进行存储以便对其进行快速检索的树型数据结构。它是二叉树，表示对 k 维空间的一个划分。    \n",
    "\n",
    "kd 树的核心部分分为两部分：\n",
    "- 树的构建算法\n",
    "- 树的搜索算法"
   ],
   "cell_type": "markdown",
   "metadata": {}
  },
  {
   "source": [
    "# kd 树的构建算法"
   ],
   "cell_type": "markdown",
   "metadata": {}
  },
  {
   "source": [
    "![dwa](./img/kdTree-build.png)"
   ],
   "cell_type": "markdown",
   "metadata": {}
  },
  {
   "cell_type": "code",
   "execution_count": 13,
   "metadata": {},
   "outputs": [],
   "source": [
    "# 简单的代码描述\n",
    "def build_tree(datas, depth=0):\n",
    "    if not datas:\n",
    "        return None\n",
    "\n",
    "    fetures = len(datas[0]) # t特征数\n",
    "    lenth = len(datas)      # 数据树\n",
    "\n",
    "    # 按切分轴排序\n",
    "    axis = depth % fetures\n",
    "    print(\"*****************************\") \n",
    "    print(\"切分轴为：\", axis + 1)\n",
    "    datas.sort(key = lambda x : x[axis])\n",
    "    print(\"按切分轴排好序的数据集为：\", datas)\n",
    "    \n",
    "    # 切分点\n",
    "    median = len(datas) // 2\n",
    "    print(\"切分点：\", datas[median])\n",
    "\n",
    "    # 递归切分\n",
    "    build_tree(datas[:median], depth + 1)\n",
    "    build_tree(datas[median + 1:], depth + 1)"
   ]
  },
  {
   "cell_type": "code",
   "execution_count": 18,
   "metadata": {},
   "outputs": [
    {
     "output_type": "stream",
     "name": "stdout",
     "text": [
      "*****************************\n切分轴为： 1\n按切分轴排好序的数据集为： [(2, 3), (4, 7), (5, 4), (7, 2), (8, 1), (9, 6)]\n切分点： (7, 2)\n*****************************\n切分轴为： 2\n按切分轴排好序的数据集为： [(2, 3), (5, 4), (4, 7)]\n切分点： (5, 4)\n*****************************\n切分轴为： 1\n按切分轴排好序的数据集为： [(2, 3)]\n切分点： (2, 3)\n*****************************\n切分轴为： 1\n按切分轴排好序的数据集为： [(4, 7)]\n切分点： (4, 7)\n*****************************\n切分轴为： 2\n按切分轴排好序的数据集为： [(8, 1), (9, 6)]\n切分点： (9, 6)\n*****************************\n切分轴为： 1\n按切分轴排好序的数据集为： [(8, 1)]\n切分点： (8, 1)\n"
     ]
    }
   ],
   "source": [
    "if __name__ == '__main__':\n",
    "    # example\n",
    "    datas = [(2, 3), (5, 4), (9, 6), (4, 7), (8, 1), (7, 2)]\n",
    "    # datas = [(2,3,1), (5,4,6), (9,6,7), (4,7,2), (8,1,3), (7,2,9)]\n",
    "    build_tree(datas)"
   ]
  },
  {
   "source": [
    "# kd 树搜索算法"
   ],
   "cell_type": "markdown",
   "metadata": {}
  },
  {
   "source": [
    "![kdtree-search](./img/kdTree-search.png)"
   ],
   "cell_type": "markdown",
   "metadata": {}
  },
  {
   "source": [
    "# kd 树的使用示例"
   ],
   "cell_type": "markdown",
   "metadata": {}
  },
  {
   "source": [
    "![kdtreeexample](./img/kdTree-example.png)"
   ],
   "cell_type": "markdown",
   "metadata": {}
  }
 ]
}