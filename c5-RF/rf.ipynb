{
 "cells": [
  {
   "cell_type": "markdown",
   "metadata": {},
   "source": [
    "# 随机森林回归模型示例"
   ]
  },
  {
   "cell_type": "markdown",
   "metadata": {},
   "source": [
    "## 基于 sklearn 系统库的实现"
   ]
  },
  {
   "cell_type": "code",
   "execution_count": 131,
   "metadata": {},
   "outputs": [],
   "source": [
    "import pandas as pd\n",
    "from sklearn import preprocessing\n",
    "from sklearn.ensemble import RandomForestRegressor\n",
    "from sklearn.datasets import load_boston"
   ]
  },
  {
   "cell_type": "markdown",
   "metadata": {},
   "source": [
    "### （1）构建训练数据集"
   ]
  },
  {
   "cell_type": "code",
   "execution_count": 132,
   "metadata": {},
   "outputs": [],
   "source": [
    "boston_house = load_boston()\n",
    "\n",
    "boston_feature_name = boston_house.feature_names\n",
    "boston_features = boston_house.data\n",
    "boston_target = boston_house.target"
   ]
  },
  {
   "cell_type": "markdown",
   "metadata": {},
   "source": [
    "数据集情况展示："
   ]
  },
  {
   "cell_type": "code",
   "execution_count": 133,
   "metadata": {},
   "outputs": [
    {
     "name": "stdout",
     "output_type": "stream",
     "text": [
      ".. _boston_dataset:\n",
      "\n",
      "Boston house prices dataset\n",
      "---------------------------\n",
      "\n",
      "**Data Set Characteristics:**  \n",
      "\n",
      "    :Number of Instances: 506 \n",
      "\n",
      "    :Number of Attributes: 13 numeric/categorical predictive. Median Value (attribute 14) is usually the target.\n",
      "\n",
      "    :Attribute Information (in order):\n",
      "        - CRIM     per capita crime rate by town\n",
      "        - ZN       proportion of residential land zoned for lots over 25,000 sq.ft.\n",
      "        - INDUS    proportion of non-retail business acres per town\n",
      "        - CHAS     Charles River dummy variable (= 1 if tract bounds river; 0 otherwise)\n",
      "        - NOX      nitric oxides concentration (parts per 10 million)\n",
      "        - RM       average number of rooms per dwelling\n",
      "        - AGE      proportion of owner-occupied units built prior to 1940\n",
      "        - DIS      weighted distances to five Boston employment centres\n",
      "        - RAD      index of accessibility to radial highways\n",
      "        - TAX      full-value property-tax rate per $10,000\n",
      "        - PTRATIO  pupil-teacher ratio by town\n",
      "        - B        1000(Bk - 0.63)^2 where Bk is the proportion of blacks by town\n",
      "        - LSTAT    % lower status of the population\n",
      "        - MEDV     Median value of owner-occupied homes in $1000's\n",
      "\n",
      "    :Missing Attribute Values: None\n",
      "\n",
      "    :Creator: Harrison, D. and Rubinfeld, D.L.\n",
      "\n",
      "This is a copy of UCI ML housing dataset.\n",
      "https://archive.ics.uci.edu/ml/machine-learning-databases/housing/\n",
      "\n",
      "\n",
      "This dataset was taken from the StatLib library which is maintained at Carnegie Mellon University.\n",
      "\n",
      "The Boston house-price data of Harrison, D. and Rubinfeld, D.L. 'Hedonic\n",
      "prices and the demand for clean air', J. Environ. Economics & Management,\n",
      "vol.5, 81-102, 1978.   Used in Belsley, Kuh & Welsch, 'Regression diagnostics\n",
      "...', Wiley, 1980.   N.B. Various transformations are used in the table on\n",
      "pages 244-261 of the latter.\n",
      "\n",
      "The Boston house-price data has been used in many machine learning papers that address regression\n",
      "problems.   \n",
      "     \n",
      ".. topic:: References\n",
      "\n",
      "   - Belsley, Kuh & Welsch, 'Regression diagnostics: Identifying Influential Data and Sources of Collinearity', Wiley, 1980. 244-261.\n",
      "   - Quinlan,R. (1993). Combining Instance-Based and Model-Based Learning. In Proceedings on the Tenth International Conference of Machine Learning, 236-243, University of Massachusetts, Amherst. Morgan Kaufmann.\n",
      "\n"
     ]
    }
   ],
   "source": [
    "print(boston_house.DESCR)"
   ]
  },
  {
   "cell_type": "code",
   "execution_count": 134,
   "metadata": {},
   "outputs": [
    {
     "data": {
      "text/plain": [
       "array(['CRIM', 'ZN', 'INDUS', 'CHAS', 'NOX', 'RM', 'AGE', 'DIS', 'RAD',\n",
       "       'TAX', 'PTRATIO', 'B', 'LSTAT'], dtype='<U7')"
      ]
     },
     "execution_count": 134,
     "metadata": {},
     "output_type": "execute_result"
    }
   ],
   "source": [
    "boston_feature_name"
   ]
  },
  {
   "cell_type": "code",
   "execution_count": 135,
   "metadata": {},
   "outputs": [
    {
     "data": {
      "text/plain": [
       "array([[6.3200e-03, 1.8000e+01, 2.3100e+00, 0.0000e+00, 5.3800e-01,\n",
       "        6.5750e+00, 6.5200e+01, 4.0900e+00, 1.0000e+00, 2.9600e+02,\n",
       "        1.5300e+01, 3.9690e+02, 4.9800e+00],\n",
       "       [2.7310e-02, 0.0000e+00, 7.0700e+00, 0.0000e+00, 4.6900e-01,\n",
       "        6.4210e+00, 7.8900e+01, 4.9671e+00, 2.0000e+00, 2.4200e+02,\n",
       "        1.7800e+01, 3.9690e+02, 9.1400e+00],\n",
       "       [2.7290e-02, 0.0000e+00, 7.0700e+00, 0.0000e+00, 4.6900e-01,\n",
       "        7.1850e+00, 6.1100e+01, 4.9671e+00, 2.0000e+00, 2.4200e+02,\n",
       "        1.7800e+01, 3.9283e+02, 4.0300e+00],\n",
       "       [3.2370e-02, 0.0000e+00, 2.1800e+00, 0.0000e+00, 4.5800e-01,\n",
       "        6.9980e+00, 4.5800e+01, 6.0622e+00, 3.0000e+00, 2.2200e+02,\n",
       "        1.8700e+01, 3.9463e+02, 2.9400e+00],\n",
       "       [6.9050e-02, 0.0000e+00, 2.1800e+00, 0.0000e+00, 4.5800e-01,\n",
       "        7.1470e+00, 5.4200e+01, 6.0622e+00, 3.0000e+00, 2.2200e+02,\n",
       "        1.8700e+01, 3.9690e+02, 5.3300e+00]])"
      ]
     },
     "execution_count": 135,
     "metadata": {},
     "output_type": "execute_result"
    }
   ],
   "source": [
    "boston_features[:5,:]"
   ]
  },
  {
   "cell_type": "code",
   "execution_count": 136,
   "metadata": {},
   "outputs": [
    {
     "data": {
      "text/plain": [
       "array([24. , 21.6, 34.7, 33.4, 36.2, 28.7, 22.9, 27.1, 16.5, 18.9, 15. ,\n",
       "       18.9, 21.7, 20.4, 18.2, 19.9, 23.1, 17.5, 20.2, 18.2, 13.6, 19.6,\n",
       "       15.2, 14.5, 15.6, 13.9, 16.6, 14.8, 18.4, 21. , 12.7, 14.5, 13.2,\n",
       "       13.1, 13.5, 18.9, 20. , 21. , 24.7, 30.8, 34.9, 26.6, 25.3, 24.7,\n",
       "       21.2, 19.3, 20. , 16.6, 14.4, 19.4, 19.7, 20.5, 25. , 23.4, 18.9,\n",
       "       35.4, 24.7, 31.6, 23.3, 19.6, 18.7, 16. , 22.2, 25. , 33. , 23.5,\n",
       "       19.4, 22. , 17.4, 20.9, 24.2, 21.7, 22.8, 23.4, 24.1, 21.4, 20. ,\n",
       "       20.8, 21.2, 20.3, 28. , 23.9, 24.8, 22.9, 23.9, 26.6, 22.5, 22.2,\n",
       "       23.6, 28.7, 22.6, 22. , 22.9, 25. , 20.6, 28.4, 21.4, 38.7, 43.8,\n",
       "       33.2, 27.5, 26.5, 18.6, 19.3, 20.1, 19.5, 19.5, 20.4, 19.8, 19.4,\n",
       "       21.7, 22.8, 18.8, 18.7, 18.5, 18.3, 21.2, 19.2, 20.4, 19.3, 22. ,\n",
       "       20.3, 20.5, 17.3, 18.8, 21.4, 15.7, 16.2, 18. , 14.3, 19.2, 19.6,\n",
       "       23. , 18.4, 15.6, 18.1, 17.4, 17.1, 13.3, 17.8, 14. , 14.4, 13.4,\n",
       "       15.6, 11.8, 13.8, 15.6, 14.6, 17.8, 15.4, 21.5, 19.6, 15.3, 19.4,\n",
       "       17. , 15.6, 13.1, 41.3, 24.3, 23.3, 27. , 50. , 50. , 50. , 22.7,\n",
       "       25. , 50. , 23.8, 23.8, 22.3, 17.4, 19.1, 23.1, 23.6, 22.6, 29.4,\n",
       "       23.2, 24.6, 29.9, 37.2, 39.8, 36.2, 37.9, 32.5, 26.4, 29.6, 50. ,\n",
       "       32. , 29.8, 34.9, 37. , 30.5, 36.4, 31.1, 29.1, 50. , 33.3, 30.3,\n",
       "       34.6, 34.9, 32.9, 24.1, 42.3, 48.5, 50. , 22.6, 24.4, 22.5, 24.4,\n",
       "       20. , 21.7, 19.3, 22.4, 28.1, 23.7, 25. , 23.3, 28.7, 21.5, 23. ,\n",
       "       26.7, 21.7, 27.5, 30.1, 44.8, 50. , 37.6, 31.6, 46.7, 31.5, 24.3,\n",
       "       31.7, 41.7, 48.3, 29. , 24. , 25.1, 31.5, 23.7, 23.3, 22. , 20.1,\n",
       "       22.2, 23.7, 17.6, 18.5, 24.3, 20.5, 24.5, 26.2, 24.4, 24.8, 29.6,\n",
       "       42.8, 21.9, 20.9, 44. , 50. , 36. , 30.1, 33.8, 43.1, 48.8, 31. ,\n",
       "       36.5, 22.8, 30.7, 50. , 43.5, 20.7, 21.1, 25.2, 24.4, 35.2, 32.4,\n",
       "       32. , 33.2, 33.1, 29.1, 35.1, 45.4, 35.4, 46. , 50. , 32.2, 22. ,\n",
       "       20.1, 23.2, 22.3, 24.8, 28.5, 37.3, 27.9, 23.9, 21.7, 28.6, 27.1,\n",
       "       20.3, 22.5, 29. , 24.8, 22. , 26.4, 33.1, 36.1, 28.4, 33.4, 28.2,\n",
       "       22.8, 20.3, 16.1, 22.1, 19.4, 21.6, 23.8, 16.2, 17.8, 19.8, 23.1,\n",
       "       21. , 23.8, 23.1, 20.4, 18.5, 25. , 24.6, 23. , 22.2, 19.3, 22.6,\n",
       "       19.8, 17.1, 19.4, 22.2, 20.7, 21.1, 19.5, 18.5, 20.6, 19. , 18.7,\n",
       "       32.7, 16.5, 23.9, 31.2, 17.5, 17.2, 23.1, 24.5, 26.6, 22.9, 24.1,\n",
       "       18.6, 30.1, 18.2, 20.6, 17.8, 21.7, 22.7, 22.6, 25. , 19.9, 20.8,\n",
       "       16.8, 21.9, 27.5, 21.9, 23.1, 50. , 50. , 50. , 50. , 50. , 13.8,\n",
       "       13.8, 15. , 13.9, 13.3, 13.1, 10.2, 10.4, 10.9, 11.3, 12.3,  8.8,\n",
       "        7.2, 10.5,  7.4, 10.2, 11.5, 15.1, 23.2,  9.7, 13.8, 12.7, 13.1,\n",
       "       12.5,  8.5,  5. ,  6.3,  5.6,  7.2, 12.1,  8.3,  8.5,  5. , 11.9,\n",
       "       27.9, 17.2, 27.5, 15. , 17.2, 17.9, 16.3,  7. ,  7.2,  7.5, 10.4,\n",
       "        8.8,  8.4, 16.7, 14.2, 20.8, 13.4, 11.7,  8.3, 10.2, 10.9, 11. ,\n",
       "        9.5, 14.5, 14.1, 16.1, 14.3, 11.7, 13.4,  9.6,  8.7,  8.4, 12.8,\n",
       "       10.5, 17.1, 18.4, 15.4, 10.8, 11.8, 14.9, 12.6, 14.1, 13. , 13.4,\n",
       "       15.2, 16.1, 17.8, 14.9, 14.1, 12.7, 13.5, 14.9, 20. , 16.4, 17.7,\n",
       "       19.5, 20.2, 21.4, 19.9, 19. , 19.1, 19.1, 20.1, 19.9, 19.6, 23.2,\n",
       "       29.8, 13.8, 13.3, 16.7, 12. , 14.6, 21.4, 23. , 23.7, 25. , 21.8,\n",
       "       20.6, 21.2, 19.1, 20.6, 15.2,  7. ,  8.1, 13.6, 20.1, 21.8, 24.5,\n",
       "       23.1, 19.7, 18.3, 21.2, 17.5, 16.8, 22.4, 20.6, 23.9, 22. , 11.9])"
      ]
     },
     "execution_count": 136,
     "metadata": {},
     "output_type": "execute_result"
    }
   ],
   "source": [
    "boston_target"
   ]
  },
  {
   "cell_type": "markdown",
   "metadata": {},
   "source": [
    "### （2）模型构建与训练"
   ]
  },
  {
   "cell_type": "code",
   "execution_count": 137,
   "metadata": {},
   "outputs": [
    {
     "name": "stdout",
     "output_type": "stream",
     "text": [
      "RandomForestRegressor(n_estimators=15)\n"
     ]
    }
   ],
   "source": [
    "# 模型创建\n",
    "# help(RandomForestRegressor)\n",
    "rgs = RandomForestRegressor(n_estimators=15) \n",
    "print(rgs)"
   ]
  },
  {
   "cell_type": "code",
   "execution_count": 138,
   "metadata": {},
   "outputs": [],
   "source": [
    "# 训练\n",
    "rgs = rgs.fit(boston_features, boston_target)"
   ]
  },
  {
   "cell_type": "code",
   "execution_count": 139,
   "metadata": {},
   "outputs": [
    {
     "name": "stdout",
     "output_type": "stream",
     "text": [
      "[24.22       21.66666667 34.14       33.78666667 34.6        26.34666667\n",
      " 22.31333333 22.68       16.08       18.9        15.5        19.16666667\n",
      " 21.22       20.40666667 19.00666667 20.02       22.6        17.66\n",
      " 19.72666667 18.65333333 14.15333333 19.28       15.46       14.33333333\n",
      " 15.58666667 14.86       16.86       14.66666667 18.84       21.43333333\n",
      " 12.96666667 16.55333333 13.19333333 13.48666667 13.45333333 19.88666667\n",
      " 20.37333333 21.72       23.43333333 30.41333333 35.13333333 29.60666667\n",
      " 25.14666667 24.88666667 20.72       19.15333333 19.51333333 17.72666667\n",
      " 16.18666667 18.88666667 20.06       21.12       24.67333333 21.94\n",
      " 19.37333333 34.35333333 23.10666667 31.39333333 23.41333333 19.90666667\n",
      " 18.42       17.66666667 22.97333333 25.68       31.64666667 23.84666667\n",
      " 19.54666667 21.24666667 18.15333333 20.86666667 23.75333333 21.09333333\n",
      " 22.88       23.8        24.26666667 22.12       20.32       21.22666667\n",
      " 21.12666667 20.68666667 27.52       24.33333333 24.05333333 23.12\n",
      " 23.97333333 26.44666667 22.29333333 21.72       26.98       30.66666667\n",
      " 22.19333333 21.90666667 22.74666667 24.56666667 20.6        27.62\n",
      " 21.38666667 40.71333333 43.54       33.16666667 25.98       25.73333333\n",
      " 18.42666667 19.6        20.04666667 18.81333333 18.23333333 20.23333333\n",
      " 19.8        19.09333333 21.09333333 23.60666667 19.38666667 19.03333333\n",
      " 20.24666667 18.56       21.07333333 19.78       19.8        19.24\n",
      " 21.68       20.55333333 20.22       17.18       18.38666667 21.42666667\n",
      " 16.54       16.34666667 17.67333333 14.42666667 18.94       19.65333333\n",
      " 21.58666667 18.23333333 15.98       17.44666667 17.37333333 18.06\n",
      " 14.21333333 17.15333333 15.24       13.68666667 14.82       15.84\n",
      " 13.81333333 14.51333333 15.52       13.99333333 16.92666667 15.51333333\n",
      " 20.86666667 18.59333333 16.8        18.04       17.24666667 16.29333333\n",
      " 13.86       40.44666667 25.14666667 26.62       27.62       49.78\n",
      " 49.08       49.17333333 21.32666667 24.28666667 49.88666667 22.22666667\n",
      " 23.5        22.5        17.88       20.3        22.47333333 24.69333333\n",
      " 22.38       27.16       22.44666667 23.74       29.48       36.38\n",
      " 41.48       31.47333333 37.47333333 30.63333333 24.85333333 27.69333333\n",
      " 46.92       30.36       28.97333333 35.48666667 34.98       30.26666667\n",
      " 38.08       30.68       29.22       48.72       33.93333333 31.26666667\n",
      " 33.84666667 33.66       32.74       23.18666667 42.84       48.79333333\n",
      " 49.43333333 23.04       23.48666667 20.63333333 23.27333333 18.90666667\n",
      " 20.80666667 19.38666667 22.14666667 26.78666667 21.62       24.32\n",
      " 22.83333333 27.47333333 21.20666667 22.88       28.27333333 20.36666667\n",
      " 27.44666667 28.99333333 45.26       47.26       41.98666667 31.85333333\n",
      " 45.95333333 28.68       22.97333333 31.9        43.92666667 47.5\n",
      " 28.24       23.27333333 25.75333333 31.31333333 23.63333333 24.45333333\n",
      " 24.22       20.22       21.64       24.18       17.80666667 18.63333333\n",
      " 23.54666667 21.19333333 23.10666667 26.45333333 24.48666667 25.06\n",
      " 30.3        41.91333333 22.34       19.78666667 44.94       49.6\n",
      " 33.84       29.46       33.21333333 43.94       48.42       30.12\n",
      " 34.00666667 22.4        29.88       46.78       44.34       20.65333333\n",
      " 21.40666667 24.7        24.72       36.34666667 31.86       31.41333333\n",
      " 32.62666667 32.95333333 27.74       33.86666667 45.60666667 34.81333333\n",
      " 46.42       49.48666667 31.13333333 23.38666667 23.46666667 23.26666667\n",
      " 23.12       23.96       29.78       36.46666667 28.02       23.34666667\n",
      " 21.34       27.88       26.34       21.12666667 23.78       31.30666667\n",
      " 28.93333333 22.79333333 25.09333333 33.11333333 33.63333333 27.17333333\n",
      " 35.         27.71333333 23.58666667 20.26666667 17.92       22.64666667\n",
      " 19.62       20.74666667 23.82666667 16.85333333 18.37333333 19.54\n",
      " 22.84666667 21.06666667 24.02       23.70666667 21.44666667 19.18666667\n",
      " 24.39333333 24.5        23.36666667 21.37333333 20.05333333 22.61333333\n",
      " 21.03333333 17.31333333 18.85333333 22.         21.61333333 20.12\n",
      " 19.38       18.76666667 20.16       19.07333333 18.94       32.79333333\n",
      " 18.39333333 26.56       31.44       18.58666667 17.26       23.94\n",
      " 25.09333333 28.62       23.27333333 24.24666667 19.71333333 29.58\n",
      " 19.46       20.71333333 16.48       21.38666667 22.40666667 22.2\n",
      " 22.96666667 20.44666667 19.98666667 17.67333333 25.79333333 26.58666667\n",
      " 19.92       21.39333333 44.44       50.         38.29333333 48.52666667\n",
      " 46.56666667 13.1        12.9        15.76       12.76       12.34666667\n",
      " 12.87333333 11.03333333 13.63333333 10.25333333 11.52666667 11.02\n",
      "  8.7         8.14        9.92        7.86666667  9.60666667 11.65333333\n",
      " 15.02666667 19.33333333  9.82       14.69333333 11.85333333 13.39333333\n",
      " 13.18        9.80666667  5.30666667  7.91333333  6.44666667  8.95333333\n",
      " 12.24666667 10.30666667  7.8         5.88       11.77333333 29.4\n",
      " 16.78       22.84666667 18.30666667 17.03333333 17.48666667 16.38\n",
      "  7.64        7.71333333  8.90666667  9.82666667  9.24        9.84666667\n",
      " 16.52       14.43333333 20.41333333 13.36666667 12.60666667  8.7\n",
      " 12.15333333 12.75333333 11.22       10.06       14.36       16.44666667\n",
      " 17.67333333 14.77333333 12.43333333 13.38       11.03333333  8.94666667\n",
      "  8.75333333 12.04       10.00666667 15.64666667 17.08666667 15.00666667\n",
      " 10.42       11.41333333 14.84       13.35333333 14.26       13.54666667\n",
      " 13.7        15.06       16.6        20.12       14.16       14.36\n",
      " 13.45333333 15.18       15.21333333 19.18       16.44666667 18.26666667\n",
      " 20.2        21.25333333 20.96       19.36       17.5        16.97333333\n",
      " 18.18       20.44666667 18.97333333 19.84666667 21.3        27.9\n",
      " 13.78666667 13.97333333 16.68666667 13.53333333 14.18       21.23333333\n",
      " 22.18666667 25.05333333 26.05333333 20.58       21.03333333 21.66\n",
      " 19.23333333 21.15333333 14.73333333 10.50666667 10.13333333 14.5\n",
      " 19.86666667 20.72666667 22.58666667 22.22       19.24666667 18.78666667\n",
      " 21.28       18.83333333 17.68666667 22.28       21.09333333 27.47333333\n",
      " 23.77333333 14.74      ]\n"
     ]
    }
   ],
   "source": [
    "# 预测\n",
    "predictions = rgs.predict(boston_features)\n",
    "print(predictions)"
   ]
  },
  {
   "cell_type": "markdown",
   "metadata": {},
   "source": [
    "### （3）结果指标"
   ]
  },
  {
   "cell_type": "code",
   "execution_count": 140,
   "metadata": {},
   "outputs": [
    {
     "name": "stdout",
     "output_type": "stream",
     "text": [
      "1.6536119455423814\n",
      "0.8510671936758897\n",
      "0.9804119801046642\n"
     ]
    }
   ],
   "source": [
    "from sklearn.metrics import mean_squared_error  # 均方误差\n",
    "from sklearn.metrics import mean_absolute_error # 平方绝对误差\n",
    "from sklearn.metrics import r2_score            # R square\n",
    "print(mean_squared_error(boston_target, predictions))\n",
    "print(mean_absolute_error(boston_target, predictions))\n",
    "print(r2_score(boston_target, predictions))"
   ]
  },
  {
   "cell_type": "markdown",
   "metadata": {},
   "source": [
    "---"
   ]
  },
  {
   "cell_type": "markdown",
   "metadata": {},
   "source": [
    "## 基础从零开始实现"
   ]
  },
  {
   "cell_type": "code",
   "execution_count": 141,
   "metadata": {},
   "outputs": [],
   "source": [
    "import csv\n",
    "from random import seed\n",
    "from random import randrange\n",
    "from math import sqrt"
   ]
  },
  {
   "cell_type": "markdown",
   "metadata": {},
   "source": [
    "### （1）数据集的创建"
   ]
  },
  {
   "cell_type": "code",
   "execution_count": 142,
   "metadata": {},
   "outputs": [],
   "source": [
    "# 加载数据集\n",
    "def loadCSV(filename):\n",
    "    dataSet = []\n",
    "    with open(filename, 'r') as file:\n",
    "        csvReader = csv.reader(file)\n",
    "        for line in csvReader:\n",
    "            dataSet.append(line)\n",
    "    return dataSet\n",
    "\n",
    "\n",
    "# 类型转换（标签除外，其他全部变为 float 类型）\n",
    "def column_to_float(dataSet):\n",
    "    features_len = len(dataSet[0])\n",
    "    for data in dataSet:\n",
    "        for column in range(features_len - 1):\n",
    "            data[column] = float(data[column].strip())\n",
    "\n",
    "\n",
    "# 交叉集划分\n",
    "def splitDataSet(dataSet, n_folds):\n",
    "    fold_size = int(len(dataSet) / n_folds)\n",
    "    dataSet_split = []\n",
    "    for i in range(n_folds):\n",
    "        fold = []\n",
    "        while len(fold) < fold_size: \n",
    "            index = randrange(len(dataSet) - 1)\n",
    "            fold.append(dataSet[index])\n",
    "        dataSet_split.append(fold)\n",
    "    return dataSet_split\n",
    "\n",
    "\n",
    "# 子集构造\n",
    "def get_subsample(dataSet, ratio):\n",
    "    subdataSet = []\n",
    "    len_subdataSet = round(len(dataSet) * ratio) # 长度为整数\n",
    "    while len(subdataSet) < len_subdataSet:\n",
    "        index = randrange(len(dataSet) - 1)\n",
    "        subdataSet.append(dataSet[index])\n",
    "    return subdataSet"
   ]
  },
  {
   "cell_type": "markdown",
   "metadata": {},
   "source": [
    "### （2）基础决策树的构造：节点 / 数据分裂"
   ]
  },
  {
   "cell_type": "code",
   "execution_count": 143,
   "metadata": {},
   "outputs": [],
   "source": [
    "# 从切分点 (index, value) 分割数据\n",
    "def data_split(dataSet, index, value):\n",
    "    left = []\n",
    "    right = []\n",
    "    for row in dataSet:\n",
    "        if row[index] < value:\n",
    "            left.append(row)\n",
    "        else:\n",
    "            right.append(row)\n",
    "    return left, right\n",
    "\n",
    "\n",
    "# 分割代价的计算（这里是分类问题，计算 “基尼指数”）\n",
    "def split_loss(left, right, class_values):\n",
    "    loss = 0.0\n",
    "    for class_value in class_values:\n",
    "        left_size = len(left)\n",
    "        if left_size != 0:  # 避免除数为 0\n",
    "            prop = [row[-1] for row in left].count(class_value) / float(left_size)\n",
    "            loss += (prop * (1.0 - prop))\n",
    "        \n",
    "        right_size = len(right)\n",
    "        if right_size != 0:\n",
    "            prop = [row[-1] for row in right].count(class_value) / float(right_size)\n",
    "            loss += (prop * (1.0 - prop))\n",
    "    return loss\n",
    "\n",
    "\n",
    "# 寻找最优拆分点（先随机挑选 n 个特征，再在这些特征里计算分割时的最优）\n",
    "def get_best_split(dataSet, n_features):\n",
    "    features = []\n",
    "    class_values = list(set(row[-1] for row in dataSet))\n",
    "    b_loss = float('inf')\n",
    "\n",
    "    while len(features) < n_features:\n",
    "        index = randrange(len(dataSet[0]) - 1)\n",
    "        if index not in features:\n",
    "            features.append(index)\n",
    "\n",
    "    for index in features:\n",
    "        for row in dataSet:\n",
    "            left, right = data_split(dataSet, index, row[index])\n",
    "            loss = split_loss(left, right, class_values)\n",
    "            if loss < b_loss:\n",
    "                b_index, b_value, b_loss, b_left, b_right = index, row[index], loss, left, right\n",
    "    return {'index': b_index, 'value': b_value, 'left': b_left, 'right': b_right}\n",
    "\n",
    "\n",
    "# 利用投票法，决策子节点的输出标签\n",
    "def decide_label(data):\n",
    "    output = [row[-1] for row in data]\n",
    "    return max(set(output), key=output.count)\n",
    "\n",
    "\n",
    "# 决策树分裂过程\n",
    "def sub_split(root, n_features, max_depth, min_size, depth):\n",
    "    left = root['left']\n",
    "    right = root['right']\n",
    "\n",
    "    # 清空当前节点数据，节省空间\n",
    "    del(root['left'])\n",
    "    del(root['right'])\n",
    "\n",
    "    if not left or not right:\n",
    "        root['left'] = root['right'] = decide_label(left + right)\n",
    "        return\n",
    "\n",
    "    if depth > max_depth:\n",
    "        root['left'] = decide_label(left)\n",
    "        root['right'] = decide_label(right)\n",
    "        return\n",
    "\n",
    "    if len(left) < min_size:\n",
    "        root['left'] = decide_label(left)\n",
    "    else:\n",
    "        root['left'] = get_best_split(left, n_features)\n",
    "        sub_split(root['left'], n_features, max_depth, min_size, depth + 1)\n",
    "\n",
    "    if len(right) < min_size:\n",
    "        root['right'] = decide_label(right)\n",
    "    else:\n",
    "        root['right'] = get_best_split(right, n_features)\n",
    "        sub_split(root['right'], n_features, max_depth, min_size, depth + 1)\n",
    "\n",
    "\n",
    "# 构造决策树\n",
    "def build_tree(dataSet, n_featrures, max_depth, min_size):\n",
    "    root = get_best_split(dataSet, n_features)\n",
    "    sub_split(root, n_features, max_depth, min_size, 1)\n",
    "    return root\n"
   ]
  },
  {
   "cell_type": "markdown",
   "metadata": {},
   "source": [
    "### （3）创建随机森林"
   ]
  },
  {
   "cell_type": "code",
   "execution_count": 144,
   "metadata": {},
   "outputs": [],
   "source": [
    "def random_forest(train, ratio, n_feature, max_depth, min_size, n_trees):\n",
    "    trees = []\n",
    "    for i in range(n_trees):\n",
    "        train = get_subsample(train, ratio)\n",
    "        tree = build_tree(train, n_features, max_depth, min_size)\n",
    "        # print('tree %d: '%i, tree)\n",
    "        trees.append(tree)\n",
    "    return trees"
   ]
  },
  {
   "cell_type": "markdown",
   "metadata": {},
   "source": [
    "### （4）预测"
   ]
  },
  {
   "cell_type": "code",
   "execution_count": 145,
   "metadata": {},
   "outputs": [],
   "source": [
    "# 预测测试集结果\n",
    "def predict(tree, row):\n",
    "    predictions = []\n",
    "    if row[tree['index']] < tree['value']:\n",
    "        if isinstance(tree['left'], dict):\n",
    "            return predict(tree['left'], row)\n",
    "        else:\n",
    "            return tree['left']\n",
    "    else:\n",
    "        if isinstance(tree['right'], dict):\n",
    "            return predict(tree['right'], row)\n",
    "        else:\n",
    "            return tree['right']\n",
    "\n",
    "\n",
    "def bagging_predict(trees, row):\n",
    "    predictions = [predict(tree, row) for tree in trees]\n",
    "    return max(set(predictions), key=predictions.count)"
   ]
  },
  {
   "cell_type": "markdown",
   "metadata": {},
   "source": [
    "### （5）精确度计算"
   ]
  },
  {
   "cell_type": "code",
   "execution_count": 146,
   "metadata": {},
   "outputs": [],
   "source": [
    "def accuracy(predict_values, actual):\n",
    "    correct = 0\n",
    "    for i in range(len(actual)):\n",
    "        if actual[i] == predict_values[i]:\n",
    "            correct += 1\n",
    "    return correct / float(len(actual))"
   ]
  },
  {
   "cell_type": "markdown",
   "metadata": {},
   "source": [
    "### 训练测试"
   ]
  },
  {
   "cell_type": "code",
   "execution_count": 147,
   "metadata": {},
   "outputs": [
    {
     "name": "stdout",
     "output_type": "stream",
     "text": [
      "scores:[0.7804878048780488, 0.6097560975609756, 0.7317073170731707, 0.7073170731707317, 0.7073170731707317]\n",
      "mean score:0.7073170731707317\n"
     ]
    }
   ],
   "source": [
    "seed(1)\n",
    "\n",
    "dataSet = loadCSV('./data/sonar.all-data.csv')\n",
    "column_to_float(dataSet)\n",
    "\n",
    "n_folds = 5\n",
    "max_depth = 15\n",
    "min_size = 1\n",
    "ratio = 1.0\n",
    "n_features = 15\n",
    "n_trees = 10\n",
    "\n",
    "folds = splitDataSet(dataSet, n_folds)\n",
    "\n",
    "scores = []\n",
    "for fold in folds:\n",
    "    # 构造训练集\n",
    "    train_set = folds[:]  # 拷贝\n",
    "    train_set.remove(fold)\n",
    "    train_set = sum(train_set, [])\n",
    "\n",
    "    # 构造测试集\n",
    "    test_set = []\n",
    "    for row in fold:\n",
    "        row_copy = list(row) # 拷贝\n",
    "        row_copy[-1] = None\n",
    "        test_set.append(row_copy)\n",
    "    actual = [row[-1] for row in fold]\n",
    "\n",
    "    rf_trees = random_forest(train_set, ratio, n_features, max_depth, min_size, n_trees)\n",
    "    \n",
    "    # predict_values = [predict(trees,row) for row in test]\n",
    "    predict_values = [bagging_predict(rf_trees, row) for row in test_set]\n",
    "    accurcy = accuracy(predict_values, actual)\n",
    "    scores.append(accurcy)\n",
    "\n",
    "print ('scores:%s' % scores)\n",
    "print ('mean score:%s' % (sum(scores) / float(len(scores))))"
   ]
  }
 ],
 "metadata": {
  "interpreter": {
   "hash": "0ef132ef7c7c459cad28f94f3549a707809e4b9d63f35a4ea5a8ccc82af6d900"
  },
  "kernelspec": {
   "display_name": "Python 3.8.8 64-bit ('base': conda)",
   "name": "python3"
  },
  "language_info": {
   "codemirror_mode": {
    "name": "ipython",
    "version": 3
   },
   "file_extension": ".py",
   "mimetype": "text/x-python",
   "name": "python",
   "nbconvert_exporter": "python",
   "pygments_lexer": "ipython3",
   "version": "3.8.8"
  },
  "orig_nbformat": 4
 },
 "nbformat": 4,
 "nbformat_minor": 2
}
