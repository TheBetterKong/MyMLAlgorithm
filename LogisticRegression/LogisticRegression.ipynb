{
 "cells": [
  {
   "cell_type": "code",
   "execution_count": 1,
   "metadata": {},
   "outputs": [],
   "source": [
    "import numpy as np\n",
    "\n",
    "import matplotlib.pyplot as plt\n",
    "\n",
    "import matplotlib\n",
    "matplotlib.rcParams['font.sans-serif'] = ['SimHei']\n",
    "matplotlib.rcParams['font.family'] = 'sans-serif'\n",
    "matplotlib.rcParams['axes.unicode_minus'] = False"
   ]
  },
  {
   "cell_type": "markdown",
   "metadata": {},
   "source": [
    "# 从文件读取数据"
   ]
  },
  {
   "cell_type": "code",
   "execution_count": 2,
   "metadata": {},
   "outputs": [],
   "source": [
    "def loadDataSet(filename):\n",
    "    X = []\n",
    "    Y = []\n",
    "    \n",
    "    with open(filename, 'rb') as f:\n",
    "        for idx, line in enumerate(f):\n",
    "            line = line.decode('utf-8').strip()\n",
    "            if not line:\n",
    "                continue\n",
    "            eles = line.split()\n",
    "            eles = list(map(float, eles))\n",
    "            \n",
    "            if idx == 0:\n",
    "                numFea = len(eles)\n",
    "            X.append(eles[:-1])\n",
    "            Y.append([eles[-1]])\n",
    "    \n",
    "    return np.array(X), np.array(Y)"
   ]
  },
  {
   "cell_type": "markdown",
   "metadata": {},
   "source": [
    "# 构建逻辑回归模型"
   ]
  },
  {
   "cell_type": "markdown",
   "metadata": {},
   "source": [
    "## （1）定义 sigmoid 函数\n",
    "   $$ g(z) = \\frac{1}{1+e^{-z}} $$"
   ]
  },
  {
   "cell_type": "code",
   "execution_count": 3,
   "metadata": {},
   "outputs": [],
   "source": [
    "def sigmoid(z):\n",
    "    return 1 / (1 + np.exp(-z))"
   ]
  },
  {
   "cell_type": "markdown",
   "metadata": {},
   "source": [
    "## （2）定义 cost 函数（带正则化）\n",
    "$$ J(\\theta) = \\frac{1}{m} [ \\sum_{i=1}^{m} (-y^{(i)}\\log(h_{\\theta}(x^{(i)})) - (1-y^{(i)})\\log{(1-h_{\\theta}(x^{(i)}))})] + \\lambda \\frac{1}{2m} \\sum_{j=1}^n \\theta_j^2 $$\n",
    "\n",
    "其中，$ h_\\theta(X) = g(\\theta^T X) = \\frac{1}{1+e^{-\\theta^T X}}$"
   ]
  },
  {
   "cell_type": "code",
   "execution_count": 4,
   "metadata": {},
   "outputs": [],
   "source": [
    "def costReg(theta, X, Y, Lamda):\n",
    "    # 初始化矩阵对象\n",
    "    theta = np.matrix(theta)\n",
    "    X = np.matrix(X)\n",
    "    Y = np.matrix(Y)\n",
    "    \n",
    "    # 构造代价函数\n",
    "    first = np.multiply(-Y, np.log(sigmoid(X*theta.T)))\n",
    "    second = np.multiply((1-Y), np.log(1-sigmoid(X*theta.T)))\n",
    "    reg = Lamda / (2.0*len(X)) * np.sum(np.power(theta[:,1:theta.shape[1]],2))\n",
    "    return np.sum(first - second) / len(X) + reg"
   ]
  },
  {
   "cell_type": "code",
   "execution_count": 5,
   "metadata": {},
   "outputs": [],
   "source": [
    "# 这里为了后面的手动梯度下降计算方便，直接让 theta 成了一个 竖向量，也就不需要转置\n",
    "def costReg2(theta, X, Y, Lamda):\n",
    "    # 初始化矩阵对象\n",
    "    theta = np.matrix(theta)\n",
    "    X = np.matrix(X)\n",
    "    Y = np.matrix(Y)\n",
    "    \n",
    "    # 构造代价函数\n",
    "    first = np.multiply(-Y, np.log(sigmoid(X*theta)))\n",
    "    second = np.multiply((1-Y), np.log(1-sigmoid(X*theta)))\n",
    "    reg = Lamda / (2.0*len(X)) * np.sum(np.square(theta[1:]))\n",
    "    return np.sum(first - second) / len(X) + reg"
   ]
  },
  {
   "cell_type": "markdown",
   "metadata": {},
   "source": [
    "## （3）定义梯度下降函数\n",
    "$$ \\theta := \\theta - \\alpha  \\frac{1}{m} (h_\\theta(x^{(i)})-y^{(i)}) x_j^{(i)} - \\alpha \\frac{\\lambda}{m}\\theta $$"
   ]
  },
  {
   "cell_type": "code",
   "execution_count": 6,
   "metadata": {},
   "outputs": [],
   "source": [
    "# 方法一：仅仅定义了梯度的计算方法，并未实现下降\n",
    "# 后面采用给定的库直接实现\n",
    "def gradientReg(theta, X, Y, learningRate):  \n",
    "    theta = np.matrix(theta) # 转化为矩阵\n",
    "    X = np.matrix(X)\n",
    "    Y = np.matrix(Y)\n",
    "    \n",
    "    parameters = int(theta.ravel().shape[1]) # 计算 theta 的个数\n",
    "    grad = np.zeros(parameters)\n",
    "    \n",
    "    error = sigmoid(X * theta.T) - Y\n",
    "    \n",
    "    for i in range(parameters):\n",
    "        term = np.multiply(error, X[:1]) # 两矩阵相乘\n",
    "        \n",
    "        if (i == 0):\n",
    "            grad[i] = np.sum(term) / len(X) # 一般来说第一个参数不需要正则化\n",
    "        else:\n",
    "            grad[i] = (np.sum(term) / len(X)) + ((float(learningRate) / len(X)) * theta[:,i])\n",
    "            \n",
    "    return grad"
   ]
  },
  {
   "cell_type": "code",
   "execution_count": 7,
   "metadata": {},
   "outputs": [],
   "source": [
    "# 方法二：直接手动定义梯度下降函数\n",
    "\n",
    "def gradientReg2(X, Y, options):\n",
    "    '''\n",
    "    options.alpha 学习率\n",
    "    options.theLambda 正则参数λ\n",
    "    options.maxLoop 最大迭代轮次\n",
    "    options.epsilon 判断收敛的阈值\n",
    "    options.method\n",
    "        - 'sgd' 随机梯度下降\n",
    "        - 'bgd' 批量梯度下降\n",
    "    '''\n",
    "    \n",
    "    m, n = X.shape\n",
    "    \n",
    "    # 获取相关的参数选项\n",
    "    # Python 字典dict.get(key, default=None)函数返回指定键的值，如果值不在字典中返回默认值\n",
    "    alpha = options.get('alpha', 0.01)\n",
    "    epsilon = options.get('epsilon', 0.00001)\n",
    "    maxloop = options.get('maxloop', 1000)\n",
    "    theLambda = float(options.get('theLambda', 0)) # 后面有 theLambda/m 的计算，如果这里不转成float，后面这个就全是0\n",
    "    method = options.get('method', 'bgd')\n",
    "    \n",
    "    # 初始化模型参数，n 个特征对应 n 个参数\n",
    "    theta = np.zeros((n,1))\n",
    "    \n",
    "    # 初始化当前误差（初始时不带正则）\n",
    "    cost = costReg2(theta, X, Y, 0)\n",
    "    \n",
    "    # 将计算的中间值用数组保存下来，第一项是初始值\n",
    "    costs = [cost]\n",
    "    thetas = [theta]\n",
    "    \n",
    "    \n",
    "    # 定义随机梯度下降\n",
    "    def _sgd(theta):\n",
    "        count = 0\n",
    "        converged = False\n",
    "        while count < maxloop:\n",
    "            if converged :\n",
    "                break\n",
    "            # 随机梯度下降，每一个样本都更新\n",
    "            for i in range(m):\n",
    "                h =sigmoid(np.dot(X[i].reshape((1,n)), theta))\n",
    "                \n",
    "                theta = theta - alpha*((1.0/m)*X[i].reshape((n,1))*(h-Y[i]) + (theLambda/m)*np.r_[[[0]], theta[1:]])\n",
    "                thetas.append(theta)\n",
    "                cost = costReg2(theta, X, Y, theLambda)\n",
    "                costs.append(cost)\n",
    "                if abs(costs[-1] - costs[-2]) < epsilon:\n",
    "                    converged = True\n",
    "                    break\n",
    "            count += 1\n",
    "        return thetas, costs, count\n",
    "    \n",
    "    \n",
    "    # 定义批量梯度下降\n",
    "    def _bgd(theta):\n",
    "        count = 0\n",
    "        converged = False\n",
    "        while count < maxloop:\n",
    "            if converged :\n",
    "                break\n",
    "            \n",
    "            h = sigmoid(np.dot(X, theta))\n",
    "            theta = theta - alpha*((1.0/m)*np.dot(X.T, (h-Y)) + (theLambda/m)*np.r_[[[0]],theta[1:]])\n",
    "            \n",
    "            thetas.append(theta)\n",
    "            cost = costReg2(theta, X, Y, theLambda)\n",
    "            costs.append(cost)\n",
    "            if abs(costs[-1] - costs[-2]) < epsilon:\n",
    "                converged = True\n",
    "                break\n",
    "            count += 1\n",
    "        return thetas, costs, count\n",
    "    \n",
    "    methods = {'sgd': _sgd, 'bgd': _bgd}\n",
    "    return methods[method](theta)   "
   ]
  },
  {
   "cell_type": "markdown",
   "metadata": {},
   "source": [
    "# 执行测试"
   ]
  },
  {
   "cell_type": "markdown",
   "metadata": {},
   "source": [
    "## 加载数据"
   ]
  },
  {
   "cell_type": "code",
   "execution_count": 8,
   "metadata": {},
   "outputs": [
    {
     "data": {
      "text/plain": [
       "((100, 3), (100, 1))"
      ]
     },
     "execution_count": 8,
     "metadata": {},
     "output_type": "execute_result"
    }
   ],
   "source": [
    "originX, testY = loadDataSet('./TestData/linear.txt')\n",
    "m, n = originX.shape\n",
    "testX = np.concatenate((np.ones((m,1)), originX), axis=1) # 手动加入 x0 数据项，全为 1\n",
    "testX.shape, testY.shape"
   ]
  },
  {
   "cell_type": "markdown",
   "metadata": {},
   "source": [
    "-----"
   ]
  },
  {
   "cell_type": "markdown",
   "metadata": {},
   "source": [
    "## 方法一：利用库函数实现梯度下降"
   ]
  },
  {
   "cell_type": "code",
   "execution_count": 9,
   "metadata": {},
   "outputs": [
    {
     "data": {
      "text/plain": [
       "5.762727132694215"
      ]
     },
     "execution_count": 9,
     "metadata": {},
     "output_type": "execute_result"
    }
   ],
   "source": [
    "test_theta = np.ones(3)\n",
    "learningRate = 1\n",
    "#testX * test_theta.T -testY\n",
    "gradientReg(test_theta, testX, testY, learningRate)\n",
    "costReg(test_theta, testX, testY, learningRate)"
   ]
  },
  {
   "cell_type": "markdown",
   "metadata": {},
   "source": [
    "在之前的梯度下降函数中，并没有真正执行梯度下降。我们还需要基于梯度下降计算结果，加入梯度项来实现一个渐变步骤。这里，可以调用 octave 的内建函数 fminunc() 来获得最优的 theta 和最小的 cost。在 python 中，使用 SciPy 的优化 API 来完成。"
   ]
  },
  {
   "cell_type": "code",
   "execution_count": 10,
   "metadata": {},
   "outputs": [
    {
     "data": {
      "text/plain": [
       "((array([-0.08279641, -0.08477411, -0.08477411]), 89, 1), 0.023935317993164062)"
      ]
     },
     "execution_count": 10,
     "metadata": {},
     "output_type": "execute_result"
    }
   ],
   "source": [
    "import scipy.optimize as opt\n",
    "import time \n",
    "\n",
    "start = time.time()\n",
    "result2 = opt.fmin_tnc(func=costReg, x0=test_theta, fprime=gradientReg, args=(testX, testY, learningRate))\n",
    "end = time.time()\n",
    "btime = end - start\n",
    "\n",
    "result2,btime"
   ]
  },
  {
   "cell_type": "markdown",
   "metadata": {},
   "source": [
    "### 结果展示"
   ]
  },
  {
   "cell_type": "markdown",
   "metadata": {},
   "source": [
    "#### 计算结果精度预测"
   ]
  },
  {
   "cell_type": "code",
   "execution_count": 11,
   "metadata": {},
   "outputs": [
    {
     "data": {
      "text/plain": [
       "0.57"
      ]
     },
     "execution_count": 11,
     "metadata": {},
     "output_type": "execute_result"
    }
   ],
   "source": [
    "def predict(theta, X):\n",
    "    probability = sigmoid(X*theta.T)\n",
    "    return [1 if x >= 0.5 else 0 for x in probability]\n",
    "theta_min = np.matrix(result2[0])\n",
    "predicttions = predict(theta_min, testX)\n",
    "correct = [1 if ((a == 1 and b == 1) or (a == 0 and b == 0)) else 0 for (a, b) in zip(predicttions, testY)]\n",
    "\n",
    "accuracy = (sum(map(int, correct)) / len(correct))\n",
    "accuracy"
   ]
  },
  {
   "cell_type": "markdown",
   "metadata": {},
   "source": [
    "#### 结果的图形化显示"
   ]
  },
  {
   "cell_type": "code",
   "execution_count": 12,
   "metadata": {},
   "outputs": [
    {
     "data": {
      "text/plain": [
       "Text(0, 0.5, '$x_2$')"
      ]
     },
     "execution_count": 12,
     "metadata": {},
     "output_type": "execute_result"
    },
    {
     "data": {
      "image/png": "[encoded data removed]",
      "text/plain": [
       "<Figure size 432x288 with 1 Axes>"
      ]
     },
     "metadata": {
      "needs_background": "light"
     },
     "output_type": "display_data"
    }
   ],
   "source": [
    "%matplotlib inline\n",
    "# 绘制决策边界\n",
    "for i in range(m):\n",
    "    x = testX[i]\n",
    "    if testY[i] == 1:\n",
    "        plt.scatter(x[1], x[2], marker='*', color='blue', s=50)\n",
    "    else:\n",
    "        plt.scatter(x[1], x[2], marker='o', color='green', s=50)\n",
    "\n",
    "hSpots = np.linspace(testX[:,1].min(), testX[:,1].max(), 100)\n",
    "#theta0, theta1, theta2 = theta_min[-1]\n",
    "theta0 = theta_min[0,0]\n",
    "theta1 = theta_min[0,1]\n",
    "theta2 = theta_min[0,2]\n",
    "vSpots = -(theta0+theta1*hSpots)/theta2\n",
    "plt.plot(hSpots, vSpots, color='red', linewidth=.5)\n",
    "\n",
    "plt.xlabel(r'$x_1$')\n",
    "plt.ylabel(r'$x_2$')"
   ]
  },
  {
   "cell_type": "markdown",
   "metadata": {},
   "source": [
    "-----"
   ]
  },
  {
   "cell_type": "markdown",
   "metadata": {},
   "source": [
    "## 方法二：手动实现的 bgd 批量梯度下降"
   ]
  },
  {
   "cell_type": "code",
   "execution_count": 13,
   "metadata": {},
   "outputs": [
    {
     "data": {
      "text/plain": [
       "(array([[13.94848025],\n",
       "        [ 1.19878763],\n",
       "        [-1.89549859]]),\n",
       " 0.09333430872838287,\n",
       " 68010,\n",
       " 8.390673160552979)"
      ]
     },
     "execution_count": 13,
     "metadata": {},
     "output_type": "execute_result"
    }
   ],
   "source": [
    "# 设置相关参数\n",
    "options = {\n",
    "    'alpha':0.05,\n",
    "    'epsilon':0.00000001,\n",
    "    'maxloop':100000,\n",
    "    'method':'bgd' \n",
    "}\n",
    "\n",
    "start = time.time()\n",
    "# 训练模型\n",
    "thetas, costs, iterationCount = gradientReg2(testX, testY, options)\n",
    "end = time.time()\n",
    "btime = end - start\n",
    "thetas[-1], costs[-1], iterationCount, btime"
   ]
  },
  {
   "cell_type": "markdown",
   "metadata": {},
   "source": [
    "### 结果展示"
   ]
  },
  {
   "cell_type": "markdown",
   "metadata": {},
   "source": [
    "#### 计算结果精度预测"
   ]
  },
  {
   "cell_type": "code",
   "execution_count": 14,
   "metadata": {},
   "outputs": [
    {
     "data": {
      "text/plain": [
       "0.95"
      ]
     },
     "execution_count": 14,
     "metadata": {},
     "output_type": "execute_result"
    }
   ],
   "source": [
    "def predict(theta, X):\n",
    "    probability = X*theta\n",
    "    return [1 if sigmoid(x) >= 0.5 else 0 for x in probability]\n",
    "\n",
    "bgd_X = np.matrix(testX)\n",
    "bgd_theta = np.matrix(thetas[-1])\n",
    "\n",
    "predicttions = predict(bgd_theta, bgd_X)\n",
    "correct = [1 if ((a == 1 and b == 1) or (a == 0 and b == 0)) else 0 for (a, b) in zip(predicttions, testY)]\n",
    "\n",
    "accuracy = (sum(map(int, correct)) / len(correct))\n",
    "accuracy"
   ]
  },
  {
   "cell_type": "markdown",
   "metadata": {},
   "source": [
    "#### 结果的图形化显示"
   ]
  },
  {
   "cell_type": "code",
   "execution_count": 15,
   "metadata": {},
   "outputs": [
    {
     "data": {
      "text/plain": [
       "Text(0, 0.5, '$x_2$')"
      ]
     },
     "execution_count": 15,
     "metadata": {},
     "output_type": "execute_result"
    },
    {
     "data": {
      "image/png": "[encoded data removed]",
      "text/plain": [
       "<Figure size 432x288 with 1 Axes>"
      ]
     },
     "metadata": {
      "needs_background": "light"
     },
     "output_type": "display_data"
    }
   ],
   "source": [
    "%matplotlib inline\n",
    "# 绘制决策边界\n",
    "for i in range(m):\n",
    "    x = testX[i]\n",
    "    if testY[i] == 1:\n",
    "        plt.scatter(x[1], x[2], marker='*', color='blue', s=50)\n",
    "    else:\n",
    "        plt.scatter(x[1], x[2], marker='o', color='green', s=50)\n",
    "\n",
    "hSpots = np.linspace(testX[:,1].min(), testX[:,1].max(), 100)\n",
    "theta0, theta1, theta2 = thetas[-1]\n",
    "\n",
    "vSpots = -(theta0+theta1*hSpots)/theta2\n",
    "plt.plot(hSpots, vSpots, color='red', linewidth=.5)\n",
    "plt.xlabel(r'$x_1$')\n",
    "plt.ylabel(r'$x_2$')"
   ]
  },
  {
   "cell_type": "markdown",
   "metadata": {},
   "source": [
    "------"
   ]
  },
  {
   "cell_type": "markdown",
   "metadata": {},
   "source": [
    "## 方法三：手动实现的 sgd 随机梯度下降"
   ]
  },
  {
   "cell_type": "code",
   "execution_count": 16,
   "metadata": {},
   "outputs": [
    {
     "data": {
      "text/plain": [
       "(array([[ 4.05188699],\n",
       "        [ 0.47059103],\n",
       "        [-0.59907261]]),\n",
       " 0.18906151167614432,\n",
       " 107,\n",
       " 1.352550745010376)"
      ]
     },
     "execution_count": 16,
     "metadata": {},
     "output_type": "execute_result"
    }
   ],
   "source": [
    "# 设置相关参数\n",
    "options = {\n",
    "    'alpha':0.5,\n",
    "    'epsilon':0.00000001,\n",
    "    'maxloop':100000,\n",
    "    'method':'sgd' \n",
    "}\n",
    "\n",
    "start = time.time()\n",
    "# 训练模型\n",
    "thetas, costs, iterationCount = gradientReg2(testX, testY, options)\n",
    "end = time.time()\n",
    "btime = end - start\n",
    "thetas[-1], costs[-1], iterationCount, btime"
   ]
  },
  {
   "cell_type": "markdown",
   "metadata": {},
   "source": [
    "### 结果展示"
   ]
  },
  {
   "cell_type": "markdown",
   "metadata": {},
   "source": [
    "#### 计算结果精度预测"
   ]
  },
  {
   "cell_type": "code",
   "execution_count": 17,
   "metadata": {},
   "outputs": [
    {
     "data": {
      "text/plain": [
       "0.98"
      ]
     },
     "execution_count": 17,
     "metadata": {},
     "output_type": "execute_result"
    }
   ],
   "source": [
    "def predict(theta, X):\n",
    "    probability = X*theta\n",
    "    return [1 if sigmoid(x) >= 0.5 else 0 for x in probability]\n",
    "\n",
    "sgd_X = np.matrix(testX)\n",
    "sgd_theta = np.matrix(thetas[-1])\n",
    "\n",
    "predicttions = predict(sgd_theta, sgd_X)\n",
    "correct = [1 if ((a == 1 and b == 1) or (a == 0 and b == 0)) else 0 for (a, b) in zip(predicttions, testY)]\n",
    "\n",
    "accuracy = (sum(map(int, correct)) / len(correct))\n",
    "accuracy"
   ]
  },
  {
   "cell_type": "markdown",
   "metadata": {},
   "source": [
    "#### 结果的图形化显示"
   ]
  },
  {
   "cell_type": "code",
   "execution_count": 18,
   "metadata": {},
   "outputs": [
    {
     "data": {
      "text/plain": [
       "Text(0, 0.5, '$x_2$')"
      ]
     },
     "execution_count": 18,
     "metadata": {},
     "output_type": "execute_result"
    },
    {
     "data": {
      "image/png": "[encoded data removed]",
      "text/plain": [
       "<Figure size 432x288 with 1 Axes>"
      ]
     },
     "metadata": {
      "needs_background": "light"
     },
     "output_type": "display_data"
    }
   ],
   "source": [
    "%matplotlib inline\n",
    "# 绘制决策边界\n",
    "for i in range(m):\n",
    "    x = testX[i]\n",
    "    if testY[i] == 1:\n",
    "        plt.scatter(x[1], x[2], marker='*', color='blue', s=50)\n",
    "    else:\n",
    "        plt.scatter(x[1], x[2], marker='o', color='green', s=50)\n",
    "\n",
    "hSpots = np.linspace(testX[:,1].min(), testX[:,1].max(), 100)\n",
    "theta0, theta1, theta2 = thetas[-1]\n",
    "\n",
    "vSpots = -(theta0+theta1*hSpots)/theta2\n",
    "plt.plot(hSpots, vSpots, color='red', linewidth=.5)\n",
    "plt.xlabel(r'$x_1$')\n",
    "plt.ylabel(r'$x_2$')"
   ]
  },
  {
   "cell_type": "markdown",
   "metadata": {},
   "source": [
    "# 非线性的逻辑回归"
   ]
  },
  {
   "cell_type": "markdown",
   "metadata": {},
   "source": [
    "上面的例子中，我们选取的决策边界为 $\\theta_0 + \\theta_1x_1  + \\theta_2x_2$，这是一个线性的边界。在实际问题中，我们可能会遇到更加复杂的例子，如下所示。这时候线性的决策边界就不再满足我们。"
   ]
  },
  {
   "cell_type": "code",
   "execution_count": 19,
   "metadata": {},
   "outputs": [
    {
     "data": {
      "image/png": "[encoded data removed]",
      "text/plain": [
       "<Figure size 432x288 with 1 Axes>"
      ]
     },
     "metadata": {
      "needs_background": "light"
     },
     "output_type": "display_data"
    }
   ],
   "source": [
    "# 加载数据\n",
    "originX, testY = loadDataSet('./TestData/non_linear.txt')\n",
    "m, n = originX.shape\n",
    "testX = np.concatenate((np.ones((m,1)), originX), axis=1)\n",
    "\n",
    "for i in range(m):\n",
    "    x = testX[i]\n",
    "    if testY[i] == 1:\n",
    "        plt.scatter(x[1], x[2], marker='*', color='blue', s=50)\n",
    "    else:\n",
    "        plt.scatter(x[1], x[2], marker='o', color='green', s=50)"
   ]
  },
  {
   "cell_type": "markdown",
   "metadata": {},
   "source": [
    "这时候，我们就需要利用二阶多项式来构造一个非线性的决策边界。可以利用专门的库 PolynomialFeatures，它可以生成多项式特征，并且多项式包含的是相互影响的特征集。\n",
    "\n",
    "\n",
    "比如：一个输入样本是 2 维的。形式如 $[a,b]$ ,则二阶多项式的特征集如下 $[1,a,b,a^2,ab,b^2]$"
   ]
  },
  {
   "cell_type": "code",
   "execution_count": 20,
   "metadata": {},
   "outputs": [
    {
     "data": {
      "text/plain": [
       "(118, 28)"
      ]
     },
     "execution_count": 20,
     "metadata": {},
     "output_type": "execute_result"
    }
   ],
   "source": [
    "from sklearn.preprocessing import PolynomialFeatures\n",
    "# 生成阶数为 6 的多项式\n",
    "poly = PolynomialFeatures(6)\n",
    "XX = poly.fit_transform(testX[:,1:3])\n",
    "m, n = XX.shape\n",
    "m, n"
   ]
  },
  {
   "cell_type": "markdown",
   "metadata": {},
   "source": [
    "## 利用 bgd 批量梯度下降开始训练"
   ]
  },
  {
   "cell_type": "markdown",
   "metadata": {},
   "source": [
    "这个时候，正则化参数将很大的影响模型的拟合程度"
   ]
  },
  {
   "cell_type": "markdown",
   "metadata": {},
   "source": [
    "### 情景一：$\\lambda = 0$"
   ]
  },
  {
   "cell_type": "code",
   "execution_count": 21,
   "metadata": {},
   "outputs": [
    {
     "data": {
      "text/plain": [
       "(array([[ 4.1451001 ],\n",
       "        [ 2.17554404],\n",
       "        [ 5.17286461],\n",
       "        [-5.75908922],\n",
       "        [-7.48334458],\n",
       "        [-7.37935231],\n",
       "        [ 2.3377385 ],\n",
       "        [-0.4197815 ],\n",
       "        [ 2.88519296],\n",
       "        [-2.91104502],\n",
       "        [-4.63355014],\n",
       "        [ 3.74363156],\n",
       "        [-3.95020422],\n",
       "        [-2.74548867],\n",
       "        [-5.97721971],\n",
       "        [-1.71636956],\n",
       "        [-0.47936793],\n",
       "        [ 5.24790526],\n",
       "        [-3.99529724],\n",
       "        [-3.98839219],\n",
       "        [ 2.88514401],\n",
       "        [-5.78603393],\n",
       "        [ 1.39770805],\n",
       "        [-0.9758034 ],\n",
       "        [ 2.96859666],\n",
       "        [-4.30736326],\n",
       "        [-3.82567885],\n",
       "        [ 0.74118165]]),\n",
       " 0.18906151167614432,\n",
       " 8861)"
      ]
     },
     "execution_count": 21,
     "metadata": {},
     "output_type": "execute_result"
    }
   ],
   "source": [
    "# 训练数据\n",
    "options = {\n",
    "    'alpha': 1.0,\n",
    "    'epsilon': 0.000001,\n",
    "    'theLambda': 0, # 0\n",
    "    'maxloop': 10000,\n",
    "    'method': 'bgd'\n",
    "}\n",
    "thetas, errors, iterationCount = gradientReg2(XX, testY, options)\n",
    "thetas[-1], costs[-1], iterationCount"
   ]
  },
  {
   "cell_type": "markdown",
   "metadata": {},
   "source": [
    "图形化结果展示："
   ]
  },
  {
   "cell_type": "code",
   "execution_count": 22,
   "metadata": {},
   "outputs": [
    {
     "data": {
      "text/plain": [
       "<matplotlib.contour.QuadContourSet at 0x29dc4ec2fd0>"
      ]
     },
     "execution_count": 22,
     "metadata": {},
     "output_type": "execute_result"
    },
    {
     "data": {
      "image/png": "[encoded data removed]",
      "text/plain": [
       "<Figure size 432x288 with 1 Axes>"
      ]
     },
     "metadata": {
      "needs_background": "light"
     },
     "output_type": "display_data"
    }
   ],
   "source": [
    "for i in range(m):\n",
    "    x = testX[i]\n",
    "    if testY[i] == 1:\n",
    "        plt.scatter(x[1], x[2], marker='*', color='blue', s=50)\n",
    "    else:\n",
    "        plt.scatter(x[1], x[2], marker='o', color='green', s=50)\n",
    "        \n",
    "# 绘制决策边界\n",
    "x1Min,x1Max,x2Min,x2Max = testX[:, 1].min(), testX[:, 1].max(), testX[:, 2].min(), testX[:, 2].max()\n",
    "xx1, xx2 = np.meshgrid(np.linspace(x1Min, x1Max), np.linspace(x2Min, x2Max))\n",
    "h = sigmoid(poly.fit_transform(np.c_[xx1.ravel(), xx2.ravel()]).dot(thetas[-1]))\n",
    "h = h.reshape(xx1.shape)\n",
    "plt.contour(xx1, xx2, h, [0.5], colors='red')"
   ]
  },
  {
   "cell_type": "markdown",
   "metadata": {},
   "source": [
    "### 情景二：$\\lambda = 50$"
   ]
  },
  {
   "cell_type": "code",
   "execution_count": 23,
   "metadata": {},
   "outputs": [
    {
     "data": {
      "text/plain": [
       "(array([[ 0.08766055],\n",
       "        [-0.03153364],\n",
       "        [ 0.02457832],\n",
       "        [-0.13093174],\n",
       "        [-0.03123081],\n",
       "        [-0.08755343],\n",
       "        [-0.03821097],\n",
       "        [-0.01768284],\n",
       "        [-0.02051091],\n",
       "        [-0.04734994],\n",
       "        [-0.10234463],\n",
       "        [-0.00502976],\n",
       "        [-0.03364094],\n",
       "        [-0.00810249],\n",
       "        [-0.09401026],\n",
       "        [-0.04613502],\n",
       "        [-0.01102099],\n",
       "        [-0.0080212 ],\n",
       "        [-0.01470926],\n",
       "        [-0.01189884],\n",
       "        [-0.07011423],\n",
       "        [-0.07976201],\n",
       "        [-0.00208582],\n",
       "        [-0.01675221],\n",
       "        [-0.00067801],\n",
       "        [-0.01881468],\n",
       "        [-0.00353575],\n",
       "        [-0.09270333]]),\n",
       " 0.18906151167614432,\n",
       " 17)"
      ]
     },
     "execution_count": 23,
     "metadata": {},
     "output_type": "execute_result"
    }
   ],
   "source": [
    "# 训练数据\n",
    "options = {\n",
    "    'alpha': 1.0,\n",
    "    'epsilon': 0.000001,\n",
    "    'theLambda': 40, # 0\n",
    "    'maxloop': 10000,\n",
    "    'method': 'bgd'\n",
    "}\n",
    "thetas, errors, iterationCount = gradientReg2(XX, testY, options)\n",
    "thetas[-1], costs[-1], iterationCount"
   ]
  },
  {
   "cell_type": "markdown",
   "metadata": {},
   "source": [
    "图形化结果展示："
   ]
  },
  {
   "cell_type": "code",
   "execution_count": 24,
   "metadata": {},
   "outputs": [
    {
     "data": {
      "text/plain": [
       "<matplotlib.contour.QuadContourSet at 0x29dc4f88cd0>"
      ]
     },
     "execution_count": 24,
     "metadata": {},
     "output_type": "execute_result"
    },
    {
     "data": {
      "image/png": "[encoded data removed]",
      "text/plain": [
       "<Figure size 432x288 with 1 Axes>"
      ]
     },
     "metadata": {
      "needs_background": "light"
     },
     "output_type": "display_data"
    }
   ],
   "source": [
    "for i in range(m):\n",
    "    x = testX[i]\n",
    "    if testY[i] == 1:\n",
    "        plt.scatter(x[1], x[2], marker='*', color='blue', s=50)\n",
    "    else:\n",
    "        plt.scatter(x[1], x[2], marker='o', color='green', s=50)\n",
    "        \n",
    "# 绘制决策边界\n",
    "x1Min,x1Max,x2Min,x2Max = testX[:, 1].min(), testX[:, 1].max(), testX[:, 2].min(), testX[:, 2].max()\n",
    "xx1, xx2 = np.meshgrid(np.linspace(x1Min, x1Max), np.linspace(x2Min, x2Max))\n",
    "h = sigmoid(poly.fit_transform(np.c_[xx1.ravel(), xx2.ravel()]).dot(thetas[-1]))\n",
    "h = h.reshape(xx1.shape)\n",
    "plt.contour(xx1, xx2, h, [0.5], colors='red')"
   ]
  },
  {
   "cell_type": "markdown",
   "metadata": {},
   "source": [
    "很明显，此时因为 $\\lambda$ 设置的过大，图形欠拟合了。"
   ]
  },
  {
   "cell_type": "markdown",
   "metadata": {},
   "source": [
    "---------"
   ]
  },
  {
   "cell_type": "markdown",
   "metadata": {},
   "source": [
    "# 与 fate 对比，训练大规模数据"
   ]
  },
  {
   "cell_type": "markdown",
   "metadata": {},
   "source": [
    "## 加载数据"
   ]
  },
  {
   "cell_type": "code",
   "execution_count": 25,
   "metadata": {},
   "outputs": [
    {
     "data": {
      "text/plain": [
       "((569, 31), (569, 1))"
      ]
     },
     "execution_count": 25,
     "metadata": {},
     "output_type": "execute_result"
    }
   ],
   "source": [
    "originX, testY = loadDataSet('./TestData/breast.txt')\n",
    "m, n = originX.shape\n",
    "testX = np.concatenate((np.ones((m,1)), originX), axis=1) # 手动加入 x0 数据项，全为 1\n",
    "testX.shape, testY.shape"
   ]
  },
  {
   "cell_type": "markdown",
   "metadata": {},
   "source": [
    "## 利用 sgd 随机梯度下降进行训练"
   ]
  },
  {
   "cell_type": "code",
   "execution_count": 26,
   "metadata": {},
   "outputs": [
    {
     "data": {
      "text/plain": [
       "(array([[ 0.13448245],\n",
       "        [-0.21366699],\n",
       "        [-0.1514791 ],\n",
       "        [-0.2140559 ],\n",
       "        [-0.20489979],\n",
       "        [-0.08546839],\n",
       "        [-0.12728507],\n",
       "        [-0.16845979],\n",
       "        [-0.2128561 ],\n",
       "        [-0.07098796],\n",
       "        [ 0.05453867],\n",
       "        [-0.16010414],\n",
       "        [ 0.00633324],\n",
       "        [-0.1494428 ],\n",
       "        [-0.15147617],\n",
       "        [ 0.02346822],\n",
       "        [-0.01397062],\n",
       "        [ 0.00286408],\n",
       "        [-0.06424629],\n",
       "        [ 0.02400796],\n",
       "        [ 0.04842544],\n",
       "        [-0.23604167],\n",
       "        [-0.1733816 ],\n",
       "        [-0.23271572],\n",
       "        [-0.21865653],\n",
       "        [-0.13764313],\n",
       "        [-0.14782963],\n",
       "        [-0.16589003],\n",
       "        [-0.22442218],\n",
       "        [-0.13495812],\n",
       "        [-0.07231662]]),\n",
       " 0.1904770571056976,\n",
       " 4,\n",
       " 0.3480708599090576)"
      ]
     },
     "execution_count": 26,
     "metadata": {},
     "output_type": "execute_result"
    }
   ],
   "source": [
    "# 设置相关参数\n",
    "options = {\n",
    "    'alpha':0.5,\n",
    "    'epsilon':0.00000001,\n",
    "    'maxloop':100000,\n",
    "    'method':'sgd' \n",
    "}\n",
    "\n",
    "start = time.time()\n",
    "# 训练模型\n",
    "thetas, costs, iterationCount = gradientReg2(testX, testY, options)\n",
    "end = time.time()\n",
    "btime = end - start\n",
    "thetas[-1], costs[-1], iterationCount, btime"
   ]
  },
  {
   "cell_type": "markdown",
   "metadata": {},
   "source": [
    "## 计算结果精度预测"
   ]
  },
  {
   "cell_type": "markdown",
   "metadata": {},
   "source": [
    "### 本实现的训练结果"
   ]
  },
  {
   "cell_type": "code",
   "execution_count": 28,
   "metadata": {},
   "outputs": [
    {
     "data": {
      "text/plain": [
       "0.9630931458699473"
      ]
     },
     "execution_count": 28,
     "metadata": {},
     "output_type": "execute_result"
    }
   ],
   "source": [
    "def predict(theta, X):\n",
    "    probability = X*theta\n",
    "    return [1 if sigmoid(x) >= 0.5 else 0 for x in probability]\n",
    "\n",
    "sgd_X = np.matrix(testX)\n",
    "sgd_theta = np.matrix(thetas[-1])\n",
    "\n",
    "predicttions = predict(sgd_theta, sgd_X)\n",
    "correct = [1 if ((a == 1 and b == 1) or (a == 0 and b == 0)) else 0 for (a, b) in zip(predicttions, testY)]\n",
    "\n",
    "accuracy = (sum(map(int, correct)) / len(correct))\n",
    "accuracy"
   ]
  },
  {
   "cell_type": "markdown",
   "metadata": {},
   "source": [
    "### Fate 的训练结果"
   ]
  },
  {
   "cell_type": "code",
   "execution_count": 32,
   "metadata": {},
   "outputs": [
    {
     "data": {
      "text/plain": [
       "0.8945518453427065"
      ]
     },
     "execution_count": 32,
     "metadata": {},
     "output_type": "execute_result"
    }
   ],
   "source": [
    "def loadCompareDataSet(filename):\n",
    "   \n",
    "    Y_com = []\n",
    "    with open(filename, 'rb') as f:\n",
    "        for idx, line in enumerate(f):\n",
    "            line = line.decode('utf-8').strip()\n",
    "            if not line:\n",
    "                continue\n",
    "                \n",
    "            eles = line.split()\n",
    "            if idx == 0:\n",
    "                numFeature = len(eles)\n",
    "            \n",
    "            eles = list(map(float, eles)) # 将数据转换成 float 型\n",
    "            \n",
    "            Y_com.append(eles[1:2])    # 应该取第二列的数据\n",
    "            \n",
    "        return np.array(Y_com)\n",
    "\n",
    "Y_com = loadCompareDataSet('./TestData/Predict_campare_breast.txt')\n",
    "# print(Y_com)\n",
    "\n",
    "correct = [1 if ((a == 1 and b == 1) or (a == 0 and b == 0)) else 0 for (a, b) in zip(Y_com, testY)]\n",
    "\n",
    "accuracy = (sum(map(int, correct)) / len(correct))\n",
    "accuracy"
   ]
  }
 ],
 "metadata": {
  "kernelspec": {
   "display_name": "Python 3",
   "language": "python",
   "name": "python3"
  },
  "language_info": {
   "codemirror_mode": {
    "name": "ipython",
    "version": 3
   },
   "file_extension": ".py",
   "mimetype": "text/x-python",
   "name": "python",
   "nbconvert_exporter": "python",
   "pygments_lexer": "ipython3",
   "version": "3.8.3"
  }
 },
 "nbformat": 4,
 "nbformat_minor": 4
}
